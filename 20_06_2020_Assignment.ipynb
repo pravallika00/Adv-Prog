{
  "nbformat": 4,
  "nbformat_minor": 0,
  "metadata": {
    "colab": {
      "name": "20-06-2020 Assignment",
      "provenance": [],
      "authorship_tag": "ABX9TyNGWIoS4aAciQZppPPMwkRM",
      "include_colab_link": true
    },
    "kernelspec": {
      "name": "python3",
      "display_name": "Python 3"
    }
  },
  "cells": [
    {
      "cell_type": "markdown",
      "metadata": {
        "id": "view-in-github",
        "colab_type": "text"
      },
      "source": [
        "<a href=\"https://colab.research.google.com/github/pravallika00/Adv-Prog/blob/master/20_06_2020_Assignment.ipynb\" target=\"_parent\"><img src=\"https://colab.research.google.com/assets/colab-badge.svg\" alt=\"Open In Colab\"/></a>"
      ]
    },
    {
      "cell_type": "markdown",
      "metadata": {
        "id": "mpVyub7-eBWn",
        "colab_type": "text"
      },
      "source": [
        "#CSE-221710307021-Pravallika"
      ]
    },
    {
      "cell_type": "markdown",
      "metadata": {
        "id": "vL00aZjneBSG",
        "colab_type": "text"
      },
      "source": [
        "#1.) Write a C program to sort a  given list of elements using the bubble sort algorithm. \n",
        " \n",
        "         15 56 12  21 1 659 3 83 51 3 135 0"
      ]
    },
    {
      "cell_type": "code",
      "metadata": {
        "id": "AKyaKSZId8Pk",
        "colab_type": "code",
        "colab": {}
      },
      "source": [
        "#include <stdio.h>\n",
        "int bubble(int a[],int n)\n",
        "{\n",
        "    int temp,i,j;\n",
        "    for(i=0;i<n;i++)\n",
        "    {\n",
        "        for(j=i+1;j<n;j++)\n",
        "        {\n",
        "            if(a[j]<a[i])\n",
        "            {\n",
        "                temp=a[i];\n",
        "                a[i]=a[j];\n",
        "                a[j]=temp;\n",
        "            }\n",
        "        }\n",
        "    }\n",
        "    for(i=0;i<n;i++)\n",
        "    {\n",
        "        printf(\"%d \",a[i]);\n",
        "    }\n",
        "}\n",
        "\n",
        "int main()\n",
        "{\n",
        "    int a[100],n,i;\n",
        "    scanf(\"%d\",&n);\n",
        "    for(i=0;i<n;i++)\n",
        "    {\n",
        "        scanf(\"%d\",&a[i]);\n",
        "    }\n",
        "    bubble(a,n);\n",
        "}"
      ],
      "execution_count": null,
      "outputs": []
    },
    {
      "cell_type": "markdown",
      "metadata": {
        "id": "CSr20vQweH4i",
        "colab_type": "text"
      },
      "source": [
        "#2.) Write a C program to search element 45 in given list of elements by using binary search \n",
        "\n",
        "           6 12 17 23 38 45 77 84 90"
      ]
    },
    {
      "cell_type": "code",
      "metadata": {
        "id": "RDBfShnXeIhM",
        "colab_type": "code",
        "colab": {}
      },
      "source": [
        "#include<stdio.h>\n",
        "int binarysearch(int a[],int size,int key)\n",
        "{\n",
        "\tint lindex=0,rindex=size-1,mindex=0;\n",
        "\twhile(lindex,rindex)\n",
        "\t{\n",
        "\t\n",
        "\tmindex = lindex + (rindex-lindex)/2;\n",
        "\tif(a[mindex]==key)\n",
        "\t{\n",
        "\t\treturn mindex;\n",
        "\t}\n",
        "\tif(a[mindex]>key)\n",
        "\t{\n",
        "\t\trindex=mindex-1;\n",
        "\t}\n",
        "\telse\n",
        "\t{\n",
        "\t\tlindex=mindex+1;\n",
        "\t}\n",
        "}\n",
        "\treturn -1;\n",
        "\t\n",
        "}\n",
        "int main()\n",
        "{\n",
        "\tint a[100],n,i,res,key;\n",
        "\t\n",
        "\tscanf(\"%d\",&n);\n",
        "\tfor(i=0;i<n;i++)\n",
        "\t{\n",
        "\t\tscanf(\"%d\",&a[i]);\n",
        "\t}\n",
        "\tscanf(\"\\n%d\",&key);\n",
        "\tres = binarysearch(a,n,key);\n",
        "\tif(res >= 0)\n",
        "\t{\n",
        "\t\tprintf(\"value is found\");\n",
        "\t}\n",
        "\telse\n",
        "\t{\n",
        "\t\tprintf(\"value is not found\");\n",
        "\t}\n",
        "\treturn 0;\n",
        "}"
      ],
      "execution_count": null,
      "outputs": []
    }
  ]
}