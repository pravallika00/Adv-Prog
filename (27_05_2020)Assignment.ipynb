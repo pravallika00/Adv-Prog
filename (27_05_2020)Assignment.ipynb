{
  "nbformat": 4,
  "nbformat_minor": 0,
  "metadata": {
    "colab": {
      "name": "(27-05-2020)Assignment",
      "provenance": [],
      "authorship_tag": "ABX9TyO+D2/l24u3A5fu7xSWTNzx",
      "include_colab_link": true
    },
    "kernelspec": {
      "name": "python3",
      "display_name": "Python 3"
    }
  },
  "cells": [
    {
      "cell_type": "markdown",
      "metadata": {
        "id": "view-in-github",
        "colab_type": "text"
      },
      "source": [
        "<a href=\"https://colab.research.google.com/github/pravallika00/Adv-Prog/blob/master/(27_05_2020)Assignment.ipynb\" target=\"_parent\"><img src=\"https://colab.research.google.com/assets/colab-badge.svg\" alt=\"Open In Colab\"/></a>"
      ]
    },
    {
      "cell_type": "markdown",
      "metadata": {
        "id": "RiZcGzppgLXh",
        "colab_type": "text"
      },
      "source": [
        "######CSE-221710307021-Pravallika\n",
        "\n"
      ]
    },
    {
      "cell_type": "markdown",
      "metadata": {
        "id": "F0cIGMScgeew",
        "colab_type": "text"
      },
      "source": [
        "## 1. Generate the following pattern\n",
        "                *\n",
        "                * *\n",
        "                * * *\n",
        "                * * * *\n",
        "                * * * * *"
      ]
    },
    {
      "cell_type": "code",
      "metadata": {
        "id": "l5wqISYZglQD",
        "colab_type": "code",
        "colab": {
          "base_uri": "https://localhost:8080/",
          "height": 118
        },
        "outputId": "f2e8ceb2-899e-4fb4-f21b-0e85008a2127"
      },
      "source": [
        "rows = int(input(\"Enter the number of rows \"))\n",
        "for j in range(1, rows+1):\n",
        "    print(\"* \" * j)"
      ],
      "execution_count": 1,
      "outputs": [
        {
          "output_type": "stream",
          "text": [
            "Enter the number of rows 5\n",
            "* \n",
            "* * \n",
            "* * * \n",
            "* * * * \n",
            "* * * * * \n"
          ],
          "name": "stdout"
        }
      ]
    },
    {
      "cell_type": "markdown",
      "metadata": {
        "id": "J8VB-5yfhUXB",
        "colab_type": "text"
      },
      "source": [
        "2. Display multiplication table of K. Take k value from user\n",
        " \tEx:      7 x 1 =7\n",
        "    \t\t7 x 2 = 14   .....\n"
      ]
    },
    {
      "cell_type": "code",
      "metadata": {
        "id": "Kdx2r2ujiWz8",
        "colab_type": "code",
        "colab": {
          "base_uri": "https://localhost:8080/",
          "height": 202
        },
        "outputId": "7c9bbee2-0631-4559-be36-55a453ed4cb0"
      },
      "source": [
        "num = int(input(\"Enter the number: \"))\n",
        "for i in range(1, 11):\n",
        "   print(num,\"X\",i,\"=\",num * i)"
      ],
      "execution_count": 4,
      "outputs": [
        {
          "output_type": "stream",
          "text": [
            "Enter the number: 7\n",
            "7 X 1 = 7\n",
            "7 X 2 = 14\n",
            "7 X 3 = 21\n",
            "7 X 4 = 28\n",
            "7 X 5 = 35\n",
            "7 X 6 = 42\n",
            "7 X 7 = 49\n",
            "7 X 8 = 56\n",
            "7 X 9 = 63\n",
            "7 X 10 = 70\n"
          ],
          "name": "stdout"
        }
      ]
    },
    {
      "cell_type": "markdown",
      "metadata": {
        "id": "F7gT420uimvk",
        "colab_type": "text"
      },
      "source": [
        "### 3. Roots of quadratic equation\n",
        "  \tTake the coefficients a,b,c from the user\n"
      ]
    },
    {
      "cell_type": "code",
      "metadata": {
        "id": "GOkx8opXiyAe",
        "colab_type": "code",
        "colab": {
          "base_uri": "https://localhost:8080/",
          "height": 101
        },
        "outputId": "5780fd3f-62bc-4480-fb6c-aa6ea25340c3"
      },
      "source": [
        "import cmath\n",
        "a=int(input(\"Enter a value\"))\n",
        "b=int(input(\"Enter b value\"))\n",
        "c=int(input(\"Enter c value\"))\n",
        "d=(b*b-4*a*c)\n",
        "if d>0:\n",
        "  r1=-b+math.sqrt(d)/2*a\n",
        "  r2=-b-math.sqrt(d)/2*a\n",
        "  print(r1,\"\\n\",r2)\n",
        "elif d<0:\n",
        "  r3=complex(-b+cmath.sqrt(d)/2*a)\n",
        "  r4=complex(-b-cmath.sqrt(d)/2*a)\n",
        "  print(r3,\"\\n\",r4)\n",
        "elif d==0:\n",
        "  r=(-b)/2*a\n",
        "  print(r)"
      ],
      "execution_count": 19,
      "outputs": [
        {
          "output_type": "stream",
          "text": [
            "Enter a value3\n",
            "Enter b value2\n",
            "Enter c value1\n",
            "(-2+4.242640687119286j) \n",
            " (-2-4.242640687119286j)\n"
          ],
          "name": "stdout"
        }
      ]
    },
    {
      "cell_type": "markdown",
      "metadata": {
        "id": "gsh7ZW6bjWVG",
        "colab_type": "text"
      },
      "source": [
        "### 4. Convert a decimal number to Binary\n"
      ]
    },
    {
      "cell_type": "code",
      "metadata": {
        "id": "92-fJHyOjZzX",
        "colab_type": "code",
        "colab": {
          "base_uri": "https://localhost:8080/",
          "height": 50
        },
        "outputId": "01981ac1-82b5-4e7b-ce32-8111d9cf4bf9"
      },
      "source": [
        "x=int(input(\"Enter x value\"))\n",
        "print(bin(x))\n",
        "  "
      ],
      "execution_count": 14,
      "outputs": [
        {
          "output_type": "stream",
          "text": [
            "Enter x value3\n",
            "0b11\n"
          ],
          "name": "stdout"
        }
      ]
    },
    {
      "cell_type": "markdown",
      "metadata": {
        "id": "fzGHkBOokCNk",
        "colab_type": "text"
      },
      "source": [
        "### 5. Generate first N number of Fibonacci numbers. Take N value from the user"
      ]
    },
    {
      "cell_type": "code",
      "metadata": {
        "id": "7RhXaszYkJfq",
        "colab_type": "code",
        "colab": {
          "base_uri": "https://localhost:8080/",
          "height": 50
        },
        "outputId": "457d9cbc-c9b4-45a1-815d-6cf6d52305e0"
      },
      "source": [
        "n=int(input(\"enter the value of n\"))\n",
        "n1=0\n",
        "n2=1\n",
        "if n<0:\n",
        "  print(\"The series is\",n1)\n",
        "else:\n",
        "    print(n1,n2,end =\" \")\n",
        "    for i in range(2,n):\n",
        "      next=n1+n2\n",
        "      print(next,end=\" \")\n",
        "      n1=n2\n",
        "      n1=next "
      ],
      "execution_count": 16,
      "outputs": [
        {
          "output_type": "stream",
          "text": [
            "enter the value of n3\n",
            "0 1 1 "
          ],
          "name": "stdout"
        }
      ]
    }
  ]
}
