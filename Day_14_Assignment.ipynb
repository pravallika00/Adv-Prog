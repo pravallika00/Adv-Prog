{
  "nbformat": 4,
  "nbformat_minor": 0,
  "metadata": {
    "colab": {
      "name": "Day 14 Assignment",
      "provenance": [],
      "authorship_tag": "ABX9TyNU7cS72paIZlpzHMgHOBbd",
      "include_colab_link": true
    },
    "kernelspec": {
      "name": "python3",
      "display_name": "Python 3"
    }
  },
  "cells": [
    {
      "cell_type": "markdown",
      "metadata": {
        "id": "view-in-github",
        "colab_type": "text"
      },
      "source": [
        "<a href=\"https://colab.research.google.com/github/pravallika00/Adv-Prog/blob/master/Day_14_Assignment.ipynb\" target=\"_parent\"><img src=\"https://colab.research.google.com/assets/colab-badge.svg\" alt=\"Open In Colab\"/></a>"
      ]
    },
    {
      "cell_type": "markdown",
      "metadata": {
        "id": "HCbo5zko4qf5",
        "colab_type": "text"
      },
      "source": [
        "#CSE-221710307021-Pravallika"
      ]
    },
    {
      "cell_type": "markdown",
      "metadata": {
        "id": "i_2bvHEk4qR6",
        "colab_type": "text"
      },
      "source": [
        "#1)Use  1 to 9 and print a spiral matrix of order 3X3\n",
        "\n",
        "\n",
        "1 \t2 \t3\t\t\t\t5\t4\t3\n",
        "\n",
        "8\t9\t4\t\t\t\t6\t1\t2\n",
        "\t\t\n",
        "7\t6\t5\t\t\t\t7\t8\t9\n"
      ]
    },
    {
      "cell_type": "code",
      "metadata": {
        "id": "mNNNhGlF4ghP",
        "colab_type": "code",
        "colab": {}
      },
      "source": [
        "#include<stdio.h>\n",
        "int main()\n",
        "{\t\n",
        "\tint i, rowind = 0, colind = 0,enrow=3,encol=3;\n",
        "\tint arr1[3][3] = { {1,  2,  3},\n",
        "        {6, 7,  8},\n",
        "        {11, 12, 13}};\n",
        "    while (rowind < enrow && colind < encol)\n",
        "    {\n",
        "        for (i = colind; i < encol; ++i)\n",
        "        {\n",
        "            printf(\"%d \", arr1[rowind][i]);\n",
        "        }\n",
        "        rowind++;\n",
        "        for (i = rowind; i < enrow; ++i)\n",
        "        {\n",
        "            printf(\"%d \", arr1[i][encol-1]);\n",
        "        }\n",
        "        encol--;\n",
        "        if ( rowind < enrow)\n",
        "        {\n",
        "            for (i = encol-1; i >= colind; --i)\n",
        "            {\n",
        "                printf(\"%d \", arr1[enrow-1][i]);\n",
        "            }\n",
        "            enrow--;\n",
        "        }\n",
        "        if (colind < encol)\n",
        "        {\n",
        "            for (i = enrow-1; i >= rowind; --i)\n",
        "            {\n",
        "                printf(\"%d \", arr1[i][colind]);\n",
        "            }\n",
        "            colind++;    \n",
        "        }        \n",
        "    }\n",
        "}"
      ],
      "execution_count": 0,
      "outputs": []
    },
    {
      "cell_type": "markdown",
      "metadata": {
        "id": "G2tCQh6q4xpk",
        "colab_type": "text"
      },
      "source": [
        "#2)WAP to find length of the string without using strlen\n",
        "Copy from one string to other string\n",
        "s1=”hello”\n",
        "s2=”rishi”\n",
        "strcpy(s1,s2)"
      ]
    },
    {
      "cell_type": "code",
      "metadata": {
        "id": "QyLBBIQX42wa",
        "colab_type": "code",
        "colab": {}
      },
      "source": [
        "#include <stdio.h>\n",
        "#include<string.h>\n",
        "int main()\n",
        "{\n",
        "    int i,count1=0,count2=0;\n",
        "    char s1[10] = \"hello\";\n",
        "    char s2[10] = \"sakshi\";\n",
        "    for(i=0;s1[i]!='\\0';i++)\n",
        "    count1++;\n",
        "    for(i=0;s2[i]!='\\0';i++)\n",
        "    count2++;\n",
        "    printf(\"%d\\n\",count1);\n",
        "    printf(\"%d\\n\",count2);\n",
        "    strcpy(s1,s2);\n",
        "    printf(\"%s\",s1);\n",
        "}\n",
        "5                                                                                                                                             \n",
        "6                                                                                                                                             \n",
        "Pravallika"
      ],
      "execution_count": 0,
      "outputs": []
    },
    {
      "cell_type": "markdown",
      "metadata": {
        "id": "XN1ci9QJ43Op",
        "colab_type": "text"
      },
      "source": [
        "#3)Wap to check given string is palindrome or not"
      ]
    },
    {
      "cell_type": "code",
      "metadata": {
        "id": "8kzJ5jmz49L5",
        "colab_type": "code",
        "colab": {}
      },
      "source": [
        "#include <stdio.h>\n",
        "#include<string.h>\n",
        "int main()\n",
        "{\n",
        "    int i,length;\n",
        "    char str[10];\n",
        "    int flag = 0;\n",
        "    printf(\"Enter a string: \");\n",
        "    scanf(\"%s\",&str);\n",
        "    length = strlen(str);\n",
        "    for(i=0;i<length;i++)\n",
        "    if(str[i]!=str[length-i-1])\n",
        "    flag=1;\n",
        "    if(flag==1)\n",
        "    printf(\"str is not palindrome\");\n",
        "    else\n",
        "    printf(\"str is palindrome\");\n",
        "}\n",
        "Enter a string: madam                                                                                                                         \n",
        "str is palindrome"
      ],
      "execution_count": 0,
      "outputs": []
    },
    {
      "cell_type": "markdown",
      "metadata": {
        "id": "WDQzZxLh49mu",
        "colab_type": "text"
      },
      "source": [
        "#4)Print the given pattern\n",
        "S\n",
        "Sw\n",
        "Swa\n",
        "Swap\n",
        "Swapn\n",
        "Swapna\n",
        "Swapn\n",
        "Swap\n",
        "Swa\n",
        "Sw\n",
        "S"
      ]
    },
    {
      "cell_type": "code",
      "metadata": {
        "id": "w7dbl8om5DOL",
        "colab_type": "code",
        "colab": {}
      },
      "source": [
        "#include<stdio.h>\n",
        "#include<string.h>\n",
        "int main()\n",
        "{\n",
        "\tchar s[]=\"Swapna\";\n",
        "\tint l=strlen(s);\n",
        "\tfor(int i=0;i<l;i++)\n",
        "\t{\n",
        "\t\tfor(int j=0;j<=i;j++)\n",
        "\t\t{\n",
        "\t\t\tprintf(\"%c\",s[j]);\n",
        "\t\t}\n",
        "\t\tprintf(\"\\n\");\n",
        "\t}\n",
        "\tfor(int i=l-1;i>=0;i--)\n",
        "\t{\n",
        "\t\tfor(int j=0;j<i;j++)\n",
        "\t\t{\n",
        "\t\t\tprintf(\"%c\",s[j]);\n",
        "\t\t}\n",
        "\t\tprintf(\"\\n\");\n",
        "\t}\n",
        "}"
      ],
      "execution_count": 0,
      "outputs": []
    }
  ]
}