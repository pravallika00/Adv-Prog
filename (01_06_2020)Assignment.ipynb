{
  "nbformat": 4,
  "nbformat_minor": 0,
  "metadata": {
    "colab": {
      "name": "(01-06-2020)Assignment",
      "provenance": [],
      "authorship_tag": "ABX9TyP201l7IVqKtxsoomnuXlyv",
      "include_colab_link": true
    },
    "kernelspec": {
      "name": "python3",
      "display_name": "Python 3"
    }
  },
  "cells": [
    {
      "cell_type": "markdown",
      "metadata": {
        "id": "view-in-github",
        "colab_type": "text"
      },
      "source": [
        "<a href=\"https://colab.research.google.com/github/pravallika00/Adv-Prog/blob/master/(01_06_2020)Assignment.ipynb\" target=\"_parent\"><img src=\"https://colab.research.google.com/assets/colab-badge.svg\" alt=\"Open In Colab\"/></a>"
      ]
    },
    {
      "cell_type": "markdown",
      "metadata": {
        "id": "4PsZSF7nvUKS",
        "colab_type": "text"
      },
      "source": [
        "#CSE-221710307021-Pravallika"
      ]
    },
    {
      "cell_type": "markdown",
      "metadata": {
        "id": "TnXY6gb1vK34",
        "colab_type": "text"
      },
      "source": [
        "## Password Picker"
      ]
    },
    {
      "cell_type": "code",
      "metadata": {
        "id": "fITnEUpjm-jP",
        "colab_type": "code",
        "colab": {
          "base_uri": "https://localhost:8080/",
          "height": 218
        },
        "outputId": "e95fd1c5-fa9a-4a58-e113-5febaf496d45"
      },
      "source": [
        "import random\n",
        "import string\n",
        "def pass1():\n",
        "  adj = [\"hard\",\"happy\",\"low\",\"light\",\"good\",\"oak\",\"new\",\"red\",\"rich\",\"sane\"]\n",
        "  adjective = random.choice(adj)\n",
        "  noun = [\"family\",\"group\",\"case\",\"life\",\"month\",\"number\",\"eye\",\"fact\",\"day\",\"lot\"]\n",
        "  noun = random.choice(adj)\n",
        "  str = random.choice(string.punctuation)\n",
        "  num = random.randint(1,100)\n",
        "  print(adjective,noun,str,num,sep=\"\")\n",
        "pass1()\n",
        "while(True):\n",
        "  num = int(input(\"Want another password? If Yes press 0  else  1 \"))\n",
        "  if num == 0:\n",
        "    pass1()\n",
        "  else:\n",
        "      break"
      ],
      "execution_count": 16,
      "outputs": [
        {
          "output_type": "stream",
          "text": [
            "oakhappy~75\n",
            "Want another password? If Yes press 0  else  1 0\n",
            "goodnew=87\n",
            "Want another password? If Yes press 0  else  1 0\n",
            "sanenew|90\n",
            "Want another password? If Yes press 0  else  1 0\n",
            "oakoak{69\n",
            "Want another password? If Yes press 0  else  1 0\n",
            "hardgood/15\n",
            "Want another password? If Yes press 0  else  1 0\n",
            "lightgood]18\n",
            "Want another password? If Yes press 0  else  1 1\n"
          ],
          "name": "stdout"
        }
      ]
    }
  ]
}