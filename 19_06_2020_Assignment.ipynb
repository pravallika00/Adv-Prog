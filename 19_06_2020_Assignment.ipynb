{
  "nbformat": 4,
  "nbformat_minor": 0,
  "metadata": {
    "colab": {
      "name": "19-06-2020 Assignment",
      "provenance": [],
      "authorship_tag": "ABX9TyNQIs4Ucb7a+HzyEmtuGUAE",
      "include_colab_link": true
    },
    "kernelspec": {
      "name": "python3",
      "display_name": "Python 3"
    }
  },
  "cells": [
    {
      "cell_type": "markdown",
      "metadata": {
        "id": "view-in-github",
        "colab_type": "text"
      },
      "source": [
        "<a href=\"https://colab.research.google.com/github/pravallika00/Adv-Prog/blob/master/19_06_2020_Assignment.ipynb\" target=\"_parent\"><img src=\"https://colab.research.google.com/assets/colab-badge.svg\" alt=\"Open In Colab\"/></a>"
      ]
    },
    {
      "cell_type": "markdown",
      "metadata": {
        "id": "GrAeYpXoauUv",
        "colab_type": "text"
      },
      "source": [
        "#CSE-221710307021-Pravallika"
      ]
    },
    {
      "cell_type": "markdown",
      "metadata": {
        "id": "FC-8NmQ-apms",
        "colab_type": "text"
      },
      "source": [
        "#1)Write a program in C to count total number of vowel or consonant in a string."
      ]
    },
    {
      "cell_type": "code",
      "metadata": {
        "id": "X3Mw9bu0acY0",
        "colab_type": "code",
        "colab": {}
      },
      "source": [
        "#include<stdio.h>\n",
        "int main()\n",
        "{\n",
        "    char s[100];\n",
        "    int i,vowel=0,cons=0;\n",
        "    printf(\"Enter a string:\\n\");\n",
        "    scanf(\"%[^\\n]s\",s);\n",
        "    for(i=0;s[i]!='\\0';i++)\n",
        "    {\n",
        "        if(s[i] == 'a' || s[i] == 'e' || s[i] == 'i' || s[i] == 'o' || s[i] == 'u')\n",
        "        {\n",
        "            vowel++;\n",
        "        }\n",
        "        else\n",
        "        {\n",
        "            cons++;\n",
        "        }\n",
        "    }\n",
        "    printf(\"vowel:%d\\n\",vowel);\n",
        "    printf(\"cons:%d\\n\",cons);\n",
        "}"
      ],
      "execution_count": null,
      "outputs": []
    },
    {
      "cell_type": "markdown",
      "metadata": {
        "id": "dRqHQh87bEtj",
        "colab_type": "text"
      },
      "source": [
        "#2)Write a program in C to extract a substring from a given string. \n",
        "Test Data :\n",
        "Input the string : this is test string\n",
        "Input the position to start extraction :9\n",
        "Input the length of substring :4\n",
        "\n",
        "Expected Output :\n",
        "\n",
        "The substring retrieve from the string is : \" test \" "
      ]
    },
    {
      "cell_type": "code",
      "metadata": {
        "id": "ZmhgGeQaa5Pt",
        "colab_type": "code",
        "colab": {}
      },
      "source": [
        "#include<stdio.h>\n",
        "int main()\n",
        "{\n",
        "    char s[100];\n",
        "    int i,j,n,p;\n",
        "    printf(\"Enter a string:\\n\");\n",
        "    scanf(\"%[^\\n]s\",s);\n",
        "    scanf(\"%d\",&n);\n",
        "    scanf(\"%d\",&p);\n",
        "    for(i=0;s[i]!='\\0';i++)\n",
        "   {\n",
        "    if(i == n)\n",
        "    {\n",
        "        for(j=n-1;j<n+p;j++)\n",
        "        printf(\"%c\",s[j]);\n",
        "    }\n",
        "   }\n",
        "}"
      ],
      "execution_count": null,
      "outputs": []
    },
    {
      "cell_type": "markdown",
      "metadata": {
        "id": "Pgu3MgNja5oC",
        "colab_type": "text"
      },
      "source": [
        "#3) Write a program in C to count the number of punctuation characters exists in a string."
      ]
    },
    {
      "cell_type": "code",
      "metadata": {
        "id": "QLWEh1xSa6Ng",
        "colab_type": "code",
        "colab": {}
      },
      "source": [
        "#include<stdio.h>\n",
        "int main()\n",
        "{\n",
        "    char s[100];\n",
        "    int i,count=0;\n",
        "    printf(\"Enter a string:\\n\");\n",
        "    scanf(\"%[^\\n]s\",s);\n",
        "    for(i=0;s[i]!='\\0';i++)\n",
        "    {\n",
        "        if(s[i]>='a' && s[i]<='z' || s[i]>='A' && s[i]<='Z')\n",
        "        {\n",
        "            continue;\n",
        "        }\n",
        "        else if(s[i] == 32)\n",
        "        {\n",
        "            continue;\n",
        "        }\n",
        "        else\n",
        "        {\n",
        "            count++;\n",
        "        }\n",
        "    }\n",
        "    printf(\"punctuations:%d\\n\",count);\n",
        "    \n",
        "}"
      ],
      "execution_count": null,
      "outputs": []
    }
  ]
}