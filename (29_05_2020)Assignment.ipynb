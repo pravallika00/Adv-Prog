{
  "nbformat": 4,
  "nbformat_minor": 0,
  "metadata": {
    "colab": {
      "name": "(29-05-2020)Assignment",
      "provenance": [],
      "authorship_tag": "ABX9TyO8OF4E6N8PnyE715L2GjCy",
      "include_colab_link": true
    },
    "kernelspec": {
      "name": "python3",
      "display_name": "Python 3"
    }
  },
  "cells": [
    {
      "cell_type": "markdown",
      "metadata": {
        "id": "view-in-github",
        "colab_type": "text"
      },
      "source": [
        "<a href=\"https://colab.research.google.com/github/pravallika00/Adv-Prog/blob/master/(29_05_2020)Assignment.ipynb\" target=\"_parent\"><img src=\"https://colab.research.google.com/assets/colab-badge.svg\" alt=\"Open In Colab\"/></a>"
      ]
    },
    {
      "cell_type": "markdown",
      "metadata": {
        "id": "e7EWfKWMonGj",
        "colab_type": "text"
      },
      "source": [
        "####CSE-221710307021-Pravallika"
      ]
    },
    {
      "cell_type": "markdown",
      "metadata": {
        "id": "5wSA-gKRoprT",
        "colab_type": "text"
      },
      "source": [
        "##1.Create a function to find Factorial of a number using Recursion\n"
      ]
    },
    {
      "cell_type": "code",
      "metadata": {
        "id": "ato1XCjdoxzS",
        "colab_type": "code",
        "colab": {
          "base_uri": "https://localhost:8080/",
          "height": 50
        },
        "outputId": "8090cfb3-0424-4424-90d4-40624c9d29a6"
      },
      "source": [
        "\n",
        "def factorial(n):\n",
        "  if(n>1):\n",
        "    return n*factorial(n-1)\n",
        "  elif(n==1):\n",
        "    return n\n",
        "n=int(input(\"enter a number\"))\n",
        "print(factorial(n))"
      ],
      "execution_count": 1,
      "outputs": [
        {
          "output_type": "stream",
          "text": [
            "enter a number5\n",
            "120\n"
          ],
          "name": "stdout"
        }
      ]
    },
    {
      "cell_type": "markdown",
      "metadata": {
        "id": "6c44Cctloyd9",
        "colab_type": "text"
      },
      "source": [
        "##2.Create a function and display ‘n’ Fibonacci numbers using Recursion\n"
      ]
    },
    {
      "cell_type": "code",
      "metadata": {
        "id": "vE8nlY2TpEbI",
        "colab_type": "code",
        "colab": {
          "base_uri": "https://localhost:8080/",
          "height": 151
        },
        "outputId": "85d89c4a-034b-45b8-e341-5a1ae7689c75"
      },
      "source": [
        "def Fib(n):  \n",
        "   if n <= 1:  \n",
        "       return n  \n",
        "   else:  \n",
        "       return(Fib(n-1) + Fib(n-2))  \n",
        "n = int(input(\"Enter the terms? \"))   \n",
        "for i in range(n):  \n",
        "  print(Fib(i))"
      ],
      "execution_count": 4,
      "outputs": [
        {
          "output_type": "stream",
          "text": [
            "Enter the terms? 7\n",
            "0\n",
            "1\n",
            "1\n",
            "2\n",
            "3\n",
            "5\n",
            "8\n"
          ],
          "name": "stdout"
        }
      ]
    },
    {
      "cell_type": "markdown",
      "metadata": {
        "id": "V5zr9Bb6pFzA",
        "colab_type": "text"
      },
      "source": [
        "##3.Print sum of list of elements without using sum() function"
      ]
    },
    {
      "cell_type": "code",
      "metadata": {
        "id": "QfEbccxIpQkd",
        "colab_type": "code",
        "colab": {
          "base_uri": "https://localhost:8080/",
          "height": 101
        },
        "outputId": "b1cb5097-1213-46d2-af13-56c7997d8219"
      },
      "source": [
        "\n",
        "def sum(list1):\n",
        "  sum=0\n",
        "  for a in list1:\n",
        "    sum=sum+a\n",
        "  return sum\n",
        "list1=[]\n",
        "n=int(input(\"enter no of elements in the list\"))\n",
        "for i in range(0,n):\n",
        "  l=int(input())\n",
        "  list1.append(l)\n",
        "print(sum(list1))"
      ],
      "execution_count": 5,
      "outputs": [
        {
          "output_type": "stream",
          "text": [
            "enter no of elements in the list3\n",
            "1\n",
            "2\n",
            "4\n",
            "7\n"
          ],
          "name": "stdout"
        }
      ]
    },
    {
      "cell_type": "markdown",
      "metadata": {
        "id": "fTMYEL96pRRD",
        "colab_type": "text"
      },
      "source": [
        "##4.print only even numbers from the list"
      ]
    },
    {
      "cell_type": "code",
      "metadata": {
        "id": "JGsu8tljpbCM",
        "colab_type": "code",
        "colab": {
          "base_uri": "https://localhost:8080/",
          "height": 185
        },
        "outputId": "c8cb070e-253e-47ff-aa28-a05304917376"
      },
      "source": [
        "\n",
        "list1=[]\n",
        "n=int(input(\"enter no of elements\"))\n",
        "for i in range(0,n):\n",
        "  l=int(input())\n",
        "  list1.append(l)\n",
        "print(\"The even numbers in the list are:\")\n",
        "for i in list1:\n",
        "  if(i%2==0):\n",
        "    print(i)"
      ],
      "execution_count": 6,
      "outputs": [
        {
          "output_type": "stream",
          "text": [
            "enter no of elements5\n",
            "1\n",
            "2\n",
            "3\n",
            "4\n",
            "6\n",
            "The even numbers in the list are:\n",
            "2\n",
            "4\n",
            "6\n"
          ],
          "name": "stdout"
        }
      ]
    },
    {
      "cell_type": "markdown",
      "metadata": {
        "id": "iM14XQCXpcSk",
        "colab_type": "text"
      },
      "source": [
        "##5.Write a Python program to get the smallest number from a list and display index of smallest element of the list"
      ]
    },
    {
      "cell_type": "code",
      "metadata": {
        "id": "wQjkqN_8p2jp",
        "colab_type": "code",
        "colab": {
          "base_uri": "https://localhost:8080/",
          "height": 134
        },
        "outputId": "51724b4d-1491-4c54-982b-7ef0ca5b9a4b"
      },
      "source": [
        "\n",
        "list1=[]\n",
        "n=int(input(\"enter no of elements\"))\n",
        "for i in range(0,n):\n",
        "  l=int(input())\n",
        "  list1.append(l)\n",
        "minimum=list1[0]\n",
        "for i in list1:\n",
        "  if i<minimum:\n",
        "    minimum=i\n",
        "print(\"the smallest number is\",minimum)\n",
        "print(\"The index of the smallest number in the list is\",list1.index(minimum))"
      ],
      "execution_count": 7,
      "outputs": [
        {
          "output_type": "stream",
          "text": [
            "enter no of elements4\n",
            "1\n",
            "2\n",
            "3\n",
            "5\n",
            "the smallest number is 1\n",
            "The index of the smallest number in the list is 0\n"
          ],
          "name": "stdout"
        }
      ]
    },
    {
      "cell_type": "markdown",
      "metadata": {
        "id": "EzaqItWSp3RD",
        "colab_type": "text"
      },
      "source": [
        "##6.Write a Python function that checks whether a passed string is palindrome or not.\n"
      ]
    },
    {
      "cell_type": "code",
      "metadata": {
        "id": "ITXv03nvp-Lk",
        "colab_type": "code",
        "colab": {
          "base_uri": "https://localhost:8080/",
          "height": 50
        },
        "outputId": "893fda2e-a507-400f-b27e-07f79d4d8758"
      },
      "source": [
        "\n",
        "def palindrome(s):\n",
        "  reverse=s[::-1]\n",
        "  if(reverse==s):\n",
        "    print(\"Palindrome\")\n",
        "  else:\n",
        "    print(\"not palindrome\")\n",
        "s=input(\"Enter a string:\")\n",
        "palindrome(s)"
      ],
      "execution_count": 8,
      "outputs": [
        {
          "output_type": "stream",
          "text": [
            "Enter a string:madam\n",
            "Palindrome\n"
          ],
          "name": "stdout"
        }
      ]
    },
    {
      "cell_type": "markdown",
      "metadata": {
        "id": "hLFUfH93p-o2",
        "colab_type": "text"
      },
      "source": [
        "##7.Write a Python program to count the number of even and odd numbers from a series of numbers. \n",
        "Sample numbers : numbers = [1, 2, 3, 4, 5, 6, 7, 8, 9]\n",
        "Expected Output :\n",
        "Number of even numbers : 4\n",
        "Number of odd numbers : 5\n"
      ]
    },
    {
      "cell_type": "code",
      "metadata": {
        "id": "KUoZm5C2qEVK",
        "colab_type": "code",
        "colab": {
          "base_uri": "https://localhost:8080/",
          "height": 168
        },
        "outputId": "49748f9a-1908-4482-a65a-b0e2f62e7257"
      },
      "source": [
        "list1=[]\n",
        "n=int(input(\"enter no of elements\"))\n",
        "for i in range(0,n):\n",
        "  l=int(input())\n",
        "  list1.append(l)\n",
        "count=0\n",
        "flag=0\n",
        "for i in list1:\n",
        "  if i%2==0:\n",
        "    count=count+1\n",
        "  else:\n",
        "    flag=flag+1\n",
        "print(\"Number of even numbers: \",count)\n",
        "print(\"Number of odd numbers:\",flag)"
      ],
      "execution_count": 10,
      "outputs": [
        {
          "output_type": "stream",
          "text": [
            "enter no of elements6\n",
            "1\n",
            "3\n",
            "2\n",
            "4\n",
            "5\n",
            "7\n",
            "Number of even numbers:  2\n",
            "Number of odd numbers: 4\n"
          ],
          "name": "stdout"
        }
      ]
    },
    {
      "cell_type": "markdown",
      "metadata": {
        "id": "7Y7mdPEvqEs6",
        "colab_type": "text"
      },
      "source": [
        "##8.Write a Python program that prints all the numbers from 0 to 6 except 3 and 6.\n",
        "Note : Use 'continue' statement.\n",
        "Expected Output : 0 1 2 4 5\n"
      ]
    },
    {
      "cell_type": "code",
      "metadata": {
        "id": "rWovF9-BqLfE",
        "colab_type": "code",
        "colab": {
          "base_uri": "https://localhost:8080/",
          "height": 34
        },
        "outputId": "8c7f86a8-c34a-4bd4-f91c-5539c11d05b7"
      },
      "source": [
        "\n",
        "for i in range(0,7):\n",
        "  if(i==0):\n",
        "    print(i,end=\" \")\n",
        "  elif(i%3==0):\n",
        "    continue\n",
        "  else:\n",
        "    print(i,end=\" \")"
      ],
      "execution_count": 11,
      "outputs": [
        {
          "output_type": "stream",
          "text": [
            "0 1 2 4 5 "
          ],
          "name": "stdout"
        }
      ]
    },
    {
      "cell_type": "markdown",
      "metadata": {
        "id": "Bo9wN4-iqL4v",
        "colab_type": "text"
      },
      "source": [
        "##9.Write a python function to check whether the given number is prime or not\n"
      ]
    },
    {
      "cell_type": "code",
      "metadata": {
        "id": "RPlRYBhKqRoD",
        "colab_type": "code",
        "colab": {
          "base_uri": "https://localhost:8080/",
          "height": 50
        },
        "outputId": "0c10a7ac-99ef-48eb-bb62-90aa1f25b97a"
      },
      "source": [
        "n=int(input(\"enter a number\"))\n",
        "if(n>1):\n",
        "  for i in range (2,n):\n",
        "   if n%i==0:\n",
        "     print(\"It is not prime\")\n",
        "     break\n",
        "  else:\n",
        "      print(\"It is prime\")\n",
        "else:\n",
        "    print(\"It is not prime\")"
      ],
      "execution_count": 12,
      "outputs": [
        {
          "output_type": "stream",
          "text": [
            "enter a number3\n",
            "It is prime\n"
          ],
          "name": "stdout"
        }
      ]
    },
    {
      "cell_type": "markdown",
      "metadata": {
        "id": "AC23N4hkqR3u",
        "colab_type": "text"
      },
      "source": [
        "##10.Write a python function to check whether the given number is Adam number or not\n",
        "Example: \n",
        "Input : 12\n",
        "Output : Adam Number\n",
        "\n",
        "Explanation: 12*12 = 144\n",
        "Reverse of 12 is 21 → 21*21 =441\n",
        "Reverse of 144 == 441\n",
        "\n"
      ]
    },
    {
      "cell_type": "code",
      "metadata": {
        "id": "5JOmvCbNqXCm",
        "colab_type": "code",
        "outputId": "b7f4052e-1771-4a83-adf0-98d308e5f75a",
        "colab": {
          "base_uri": "https://localhost:8080/",
          "height": 50
        }
      },
      "source": [
        "n=int(input(\"enter a number\"))\n",
        "if int(str(n**2)[::-1]) == int(str(n)[::-1])**2:\n",
        "  print(\"Adam number\")\n",
        "else:\n",
        "  print(\"Not an adam number\")\n"
      ],
      "execution_count": 13,
      "outputs": [
        {
          "output_type": "stream",
          "text": [
            "enter a number121\n",
            "Adam number\n"
          ],
          "name": "stdout"
        }
      ]
    }
  ]
}