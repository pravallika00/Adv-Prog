{
  "nbformat": 4,
  "nbformat_minor": 0,
  "metadata": {
    "colab": {
      "name": "Untitled0.ipynb",
      "provenance": [],
      "authorship_tag": "ABX9TyNk1C97RHym4PYkLzvqzl7D",
      "include_colab_link": true
    },
    "kernelspec": {
      "name": "python3",
      "display_name": "Python 3"
    }
  },
  "cells": [
    {
      "cell_type": "markdown",
      "metadata": {
        "id": "view-in-github",
        "colab_type": "text"
      },
      "source": [
        "<a href=\"https://colab.research.google.com/github/pravallika00/Adv-Prog/blob/master/Untitled0.ipynb\" target=\"_parent\"><img src=\"https://colab.research.google.com/assets/colab-badge.svg\" alt=\"Open In Colab\"/></a>"
      ]
    },
    {
      "cell_type": "markdown",
      "metadata": {
        "id": "jf1YxST6aQEr",
        "colab_type": "text"
      },
      "source": [
        "#CSE-221710307021-Pravallika"
      ]
    },
    {
      "cell_type": "markdown",
      "metadata": {
        "id": "tmDez8diaQB1",
        "colab_type": "text"
      },
      "source": [
        "#1.) Write a program in C++ to convert temperature in Fahrenheit to Celsius.\n",
        "Test Data:\n",
        "Input the temperature in Fahrenheit : 95\n",
        "Expected Output: \n",
        "the temperature in Fahrenheit: 95\n",
        "the temperature in celsius : 35"
      ]
    },
    {
      "cell_type": "code",
      "metadata": {
        "id": "X0nFuIIcaEsA",
        "colab_type": "code",
        "colab": {}
      },
      "source": [
        "#include<iostream>\n",
        "#include<math.h>\n",
        "using namespace std;\n",
        "int main()\n",
        "{\n",
        "    float f,c;\n",
        "    cout<<\"enter temperature in farenheit \";\n",
        "\n",
        "    cin>>f;\n",
        "    c=((f-32)*5)/9;\n",
        "    \n",
        "    cout<<\"temperature in farenheit is: \"<<f<<endl;\n",
        "\n",
        "    cout<<\"temperature in celsius is: \"<<c<<endl;\n",
        "    \n",
        "}"
      ],
      "execution_count": null,
      "outputs": []
    },
    {
      "cell_type": "markdown",
      "metadata": {
        "id": "5-PiMo2Paaax",
        "colab_type": "text"
      },
      "source": [
        "#2.)Write a program in C++ to find size of fundamental data types.\n",
        "Expected Output:\n",
        "\n",
        "Size of fundamental data types :\n",
        "\n",
        "The sizeof(char) is : \n",
        "The sizeof(short) is :  \n",
        "The sizeof(int) is : \n",
        "The sizeof(long) is :\n",
        "The sizeof(long long) is : \n",
        "The sizeof(float) is : \n",
        "The sizeof(double) is : \n",
        "The sizeof(long double) is : \n",
        "The sizeof(bool) is :\n"
      ]
    },
    {
      "cell_type": "code",
      "metadata": {
        "id": "iB_ElzI9aefN",
        "colab_type": "code",
        "colab": {}
      },
      "source": [
        "#include<iostream>\n",
        "#include<math.h>\n",
        "using namespace std;\n",
        "int main()\n",
        "{\n",
        "    \n",
        "\n",
        "    cout << \"\\nFind Size of fundamental data types :\\n\";\n",
        "   cout << \" The sizeof(char) is :          \" << sizeof(char) << \" bytes \\n\" ;\n",
        "   cout << \" The sizeof(short) is :         \" << sizeof(short) << \" bytes \\n\" ;\n",
        "   cout << \" The sizeof(int) is :           \" << sizeof(int) << \" bytes \\n\" ;\n",
        "   cout << \" The sizeof(long) is :          \" << sizeof(long) << \" bytes \\n\" ;\n",
        "   cout << \" The sizeof(long long) is :     \" << sizeof(long long) << \" bytes \\n\";\n",
        "   cout << \" The sizeof(float) is :         \" << sizeof(float) << \" bytes \\n\" ;\n",
        "   cout << \" The sizeof(double) is :        \" << sizeof(double) << \" bytes \\n\";\n",
        "   cout << \" The sizeof(long double) is :   \" << sizeof(long double) << \" bytes \\n\";\n",
        "   cout << \" The sizeof(bool) is :          \" << sizeof(bool) << \" bytes \\n\\n\";\n",
        "   return 0;\n",
        "\n",
        "\n",
        "}"
      ],
      "execution_count": null,
      "outputs": []
    }
  ]
}