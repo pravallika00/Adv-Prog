{
  "nbformat": 4,
  "nbformat_minor": 0,
  "metadata": {
    "colab": {
      "name": "(02-06-2020)Assignment",
      "provenance": [],
      "authorship_tag": "ABX9TyOeHYY9wa1NBosFFqBzkbMZ",
      "include_colab_link": true
    },
    "kernelspec": {
      "name": "python3",
      "display_name": "Python 3"
    }
  },
  "cells": [
    {
      "cell_type": "markdown",
      "metadata": {
        "id": "view-in-github",
        "colab_type": "text"
      },
      "source": [
        "<a href=\"https://colab.research.google.com/github/pravallika00/Adv-Prog/blob/master/(02_06_2020)Assignment.ipynb\" target=\"_parent\"><img src=\"https://colab.research.google.com/assets/colab-badge.svg\" alt=\"Open In Colab\"/></a>"
      ]
    },
    {
      "cell_type": "markdown",
      "metadata": {
        "id": "YQRJqJNEziPZ",
        "colab_type": "text"
      },
      "source": [
        "#CSE-221710307021-Pravallika"
      ]
    },
    {
      "cell_type": "markdown",
      "metadata": {
        "id": "6FeiPZW9zh1k",
        "colab_type": "text"
      },
      "source": [
        "#Question:1\n",
        "##Nine lives"
      ]
    },
    {
      "cell_type": "code",
      "metadata": {
        "id": "WAabje2M1qqb",
        "colab_type": "code",
        "colab": {
          "base_uri": "https://localhost:8080/",
          "height": 538
        },
        "outputId": "07cf33da-1cef-4abb-e9fc-754eeb51fc84"
      },
      "source": [
        "import random\n",
        "\n",
        "def update_clue(guess_letter, secret_word, clue, unknown_letters):\n",
        "    index = 0\n",
        "    while index < len(secret_word):\n",
        "        if guess_letter == secret_word[index]:\n",
        "           clue[index] = guess_letter\n",
        "           unknown_letters = unknown_letters - 1\n",
        "           \n",
        "        index = index+1\n",
        "    return unknown_letters\n",
        "\n",
        "def set_difficulty(num):\n",
        "    global lives\n",
        "    lives = 12 - ((num-1)*3)\n",
        "\n",
        "\n",
        "lives = 9\n",
        "words = ['cute', 'fairy', 'tooth', 'shirt',\n",
        "         'odour', 'plank', 'pizza', 'cat', 'fan']\n",
        "secret_word = random.choice(words)\n",
        "clue = list('?????')\n",
        "heart_symbol = u'\\u2764'\n",
        "guessed_word_correctly = False\n",
        "unknown_letters = len(secret_word)\n",
        "difficulty = input('Choose difficulty (type 1, 2, or 3):\\n 1 Easy\\n 2 Normal\\n 3 Hard\\n')\n",
        "difficulty = int(difficulty)\n",
        "\n",
        "set_difficulty(difficulty)\n",
        "\n",
        "\n",
        "while lives > 0:\n",
        "    print(clue)\n",
        "    print('Lives left: ' + (heart_symbol * lives))\n",
        "    guess = input('Guess a letter or the whole word: ')\n",
        "\n",
        "    if guess == secret_word:\n",
        "           guessed_word_correctly = True\n",
        "           break\n",
        "\n",
        "    if guess in secret_word:\n",
        "        unknown_letters = update_clue(guess, secret_word, clue, unknown_letters)\n",
        "    else:\n",
        "           print('Incorrect. You lose a life')\n",
        "           lives = lives - 1\n",
        "    if unknown_letters == 0:\n",
        "        guessed_word_correctly = True\n",
        "        break\n",
        "if guessed_word_correctly:\n",
        "    print('You won! The secret word was ' + secret_word)\n",
        "else:\n",
        "    print('You lost! The secret word was ' + secret_word)"
      ],
      "execution_count": 9,
      "outputs": [
        {
          "output_type": "stream",
          "text": [
            "Choose difficulty (type 1, 2, or 3):\n",
            " 1 Easy\n",
            " 2 Normal\n",
            " 3 Hard\n",
            "1\n",
            "['?', '?', '?', '?', '?']\n",
            "Lives left: ❤❤❤❤❤❤❤❤❤❤❤❤\n",
            "Guess a letter or the whole word: a\n",
            "['?', 'a', '?', '?', '?']\n",
            "Lives left: ❤❤❤❤❤❤❤❤❤❤❤❤\n",
            "Guess a letter or the whole word: i\n",
            "Incorrect. You lose a life\n",
            "['?', 'a', '?', '?', '?']\n",
            "Lives left: ❤❤❤❤❤❤❤❤❤❤❤\n",
            "Guess a letter or the whole word: y\n",
            "Incorrect. You lose a life\n",
            "['?', 'a', '?', '?', '?']\n",
            "Lives left: ❤❤❤❤❤❤❤❤❤❤\n",
            "Guess a letter or the whole word: p\n",
            "Incorrect. You lose a life\n",
            "['?', 'a', '?', '?', '?']\n",
            "Lives left: ❤❤❤❤❤❤❤❤❤\n",
            "Guess a letter or the whole word: t\n",
            "['?', 'a', 't', '?', '?']\n",
            "Lives left: ❤❤❤❤❤❤❤❤❤\n",
            "Guess a letter or the whole word: z\n",
            "Incorrect. You lose a life\n",
            "['?', 'a', 't', '?', '?']\n",
            "Lives left: ❤❤❤❤❤❤❤❤\n",
            "Guess a letter or the whole word: a\n",
            "You won! The secret word was cat\n"
          ],
          "name": "stdout"
        }
      ]
    }
  ]
}