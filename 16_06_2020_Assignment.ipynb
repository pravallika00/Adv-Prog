{
  "nbformat": 4,
  "nbformat_minor": 0,
  "metadata": {
    "colab": {
      "name": "16-06-2020 Assignment",
      "provenance": [],
      "authorship_tag": "ABX9TyOH+dld4Pein053j+krjrCT",
      "include_colab_link": true
    },
    "kernelspec": {
      "name": "python3",
      "display_name": "Python 3"
    }
  },
  "cells": [
    {
      "cell_type": "markdown",
      "metadata": {
        "id": "view-in-github",
        "colab_type": "text"
      },
      "source": [
        "<a href=\"https://colab.research.google.com/github/pravallika00/Adv-Prog/blob/master/16_06_2020_Assignment.ipynb\" target=\"_parent\"><img src=\"https://colab.research.google.com/assets/colab-badge.svg\" alt=\"Open In Colab\"/></a>"
      ]
    },
    {
      "cell_type": "markdown",
      "metadata": {
        "id": "DM1sqG-_c6Wb",
        "colab_type": "text"
      },
      "source": [
        "#CSE-221710307021-Pravallika"
      ]
    },
    {
      "cell_type": "markdown",
      "metadata": {
        "id": "HzYp0Sz1c6Tl",
        "colab_type": "text"
      },
      "source": [
        "#1.) Write a program in C to check a given number is even or odd using the function."
      ]
    },
    {
      "cell_type": "code",
      "metadata": {
        "id": "JusW2wZJc4Jm",
        "colab_type": "code",
        "colab": {}
      },
      "source": [
        "#include<stdio.h>\n",
        "int iseven(int a)\n",
        "{\n",
        "if(a%2==0)\n",
        "{\n",
        "\treturn a;\n",
        "\t}\n",
        "\treturn 0 ;\t\n",
        "\n",
        "}\n",
        "int main()\n",
        "{\n",
        "  int n,num;\n",
        "  scanf(\"%d\",&n);\n",
        "  if(num = iseven(n))\n",
        "   \n",
        "  \n",
        "  printf(\"%d is even\",num);\n",
        "   \n",
        "   else   \n",
        "printf(\"it is odd\");\n",
        "\n",
        "}"
      ],
      "execution_count": null,
      "outputs": []
    },
    {
      "cell_type": "markdown",
      "metadata": {
        "id": "7TnwpXtKc8X8",
        "colab_type": "text"
      },
      "source": [
        "#2.) Write a program in C to Calculate the length of the string using a pointer.\n",
        "Test Data :\n",
        "Input a string : programming\n",
        "Expected Output :\n",
        "The length of the given string w3resource is : *11*"
      ]
    },
    {
      "cell_type": "code",
      "metadata": {
        "id": "zYMh_iQ2c82t",
        "colab_type": "code",
        "colab": {}
      },
      "source": [
        "#include<stdio.h>\n",
        "#include<string.h>\n",
        "int calculatelen(char *a)\n",
        "{\n",
        "\tint i=0,count=0;\n",
        "\twhile(*a!='\\0')\n",
        "\t{\n",
        "\t\tcount++;\n",
        "\t\ta++;\n",
        "\t}\n",
        "\treturn count;\n",
        "}\n",
        "int main()\n",
        "{\n",
        "\tchar a[100];\n",
        "\tscanf(\"%[^\\n]\",a);\n",
        "\tprintf(\"%d\",calculatelen(a));\n",
        "\t\n",
        "\t\n",
        "}"
      ],
      "execution_count": null,
      "outputs": []
    },
    {
      "cell_type": "markdown",
      "metadata": {
        "id": "hfbdxTAAc9O7",
        "colab_type": "text"
      },
      "source": [
        "#3.) Write a program in C to swap elements using call by reference.\n",
        "Test Data :\n",
        "Input the value of 1st element : 5\n",
        "Input the value of 2nd element : 6\n",
        "Input the value of 3rd element : 7\n",
        "\n",
        "Expected Output :\n",
        "The value before swapping are :                                                                              \n",
        "element 1 = 5                                                                                                \n",
        "element 2 = 6                                                                                                \n",
        "element 3 = 7                                                                                                \n",
        "The value after swapping are :                                                                               \n",
        "element 1 = 7                                                                                                \n",
        "element 2 = 5                                                                                                \n",
        "element 3 = 6 "
      ]
    },
    {
      "cell_type": "code",
      "metadata": {
        "id": "SdsTv9Fjc9uZ",
        "colab_type": "code",
        "colab": {}
      },
      "source": [
        "#include<stdio.h>\n",
        "int swap(int *a,int *b,int *c)\n",
        "{\n",
        "\t*a = *a+*b+*c;\n",
        "\t*b = *a-(*b+*c);\n",
        "\t*c = *a-(*b+*c);\n",
        "\t*a = *a-(*b+*c);\n",
        "}\n",
        "\n",
        "\t\n",
        "\n",
        "int main()\n",
        "{\n",
        "\tint a,b,c;\n",
        "\tscanf(\"%d\",&a);\n",
        "\tscanf(\"%d\",&b);\n",
        "\tscanf(\"%d\",&c);\n",
        "\tprintf(\"values before swapping a = %d,b = %d,c = %d\",a,b,c);\n",
        "\tswap(&a,&b,&c);\n",
        "    printf(\"values after swapping a = %d,b = %d,c = %d\",a,b,c);\t\n",
        "}"
      ],
      "execution_count": null,
      "outputs": []
    }
  ]
}