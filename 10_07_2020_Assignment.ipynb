{
  "nbformat": 4,
  "nbformat_minor": 0,
  "metadata": {
    "colab": {
      "name": "10-07-2020 Assignment",
      "provenance": [],
      "authorship_tag": "ABX9TyOHSr51yFF6F8XTKk9UZo69",
      "include_colab_link": true
    },
    "kernelspec": {
      "name": "python3",
      "display_name": "Python 3"
    }
  },
  "cells": [
    {
      "cell_type": "markdown",
      "metadata": {
        "id": "view-in-github",
        "colab_type": "text"
      },
      "source": [
        "<a href=\"https://colab.research.google.com/github/pravallika00/Adv-Prog/blob/master/10_07_2020_Assignment.ipynb\" target=\"_parent\"><img src=\"https://colab.research.google.com/assets/colab-badge.svg\" alt=\"Open In Colab\"/></a>"
      ]
    },
    {
      "cell_type": "markdown",
      "metadata": {
        "id": "89Rn6IjmnGJd",
        "colab_type": "text"
      },
      "source": [
        "#CSE-221710307021-Pravallika"
      ]
    },
    {
      "cell_type": "markdown",
      "metadata": {
        "id": "h16f3smlnGGm",
        "colab_type": "text"
      },
      "source": [
        "#1.) Write a program in c++ to find the area of any triangle using Heron's formula \n",
        "\n",
        "Test data : \n",
        "length of 1st side : 5\n",
        "length of 2nd side  : 6\n",
        "length of 3rd side :  7\n",
        "Expected Output:  \n",
        "area of traingle is  : 14.6969 "
      ]
    },
    {
      "cell_type": "code",
      "metadata": {
        "id": "s29PDUvInA1Q",
        "colab_type": "code",
        "colab": {}
      },
      "source": [
        "#include<iostream>\n",
        "#include<math.h>\n",
        "using namespace std;\n",
        "int main()\n",
        "{\n",
        "    float a,b,c,s,area;\n",
        "    cout<<\"length of 1st side : \";\n",
        "    cin>>a;\n",
        "    cout<<\"\\nlength of 2nd side : \";\n",
        "    cin>>b;\n",
        "    cout<<\"\\nlength of 3rd side : \";\n",
        "    cin>>c;\n",
        "    s=(a+b+c)/2;\n",
        "    area=sqrt(s*(s-a)*(s-b)*(s-c));\n",
        "    cout<<\"area of triangle is : \"<<area<<endl;\n",
        "    return 0;\n",
        "}"
      ],
      "execution_count": null,
      "outputs": []
    },
    {
      "cell_type": "markdown",
      "metadata": {
        "id": "oxhVdLtEnPKI",
        "colab_type": "text"
      },
      "source": [
        "#2.) Write a program in C to merge two files and write it in a new file. \n",
        "                                                                                                  \n",
        "Test Data :\n",
        "Input the 1st file name : test.txt\n",
        "Input the 2nd file name : test1.txt\n",
        "Input the new file name where to merge the above two files : mergefiles.txt\n",
        "Expected Output :\n",
        "The two files merged into mergefiles.txt file successfully..!! \n",
        "\n",
        "\n"
      ]
    },
    {
      "cell_type": "code",
      "metadata": {
        "id": "oUu6HbfrnTap",
        "colab_type": "code",
        "colab": {}
      },
      "source": [
        "#include <stdio.h>\n",
        "#include <stdlib.h>\n",
        "void main()\n",
        "{\n",
        "\tFILE  *fold1,*fold2,*fnew;\n",
        "\tchar ch,fname1[20],fname2[20],fname3[30];\n",
        "\tprintf(\"Input the 1st file name : \");\n",
        "\tscanf(\"%s\",fname1);\n",
        "\tprintf(\"Input the 2nd file name : \");\n",
        "\tscanf(\"%s\",fname2);\n",
        "\tprintf(\"Input the new file name where to merge the above two files : \");\n",
        "\tscanf(\"%s\",fname3);\n",
        "\tfold1=fopen(fname1,\"r\");\n",
        "\tfold2=fopen(fname2,\"r\");\n",
        "\tif(fold1==NULL||fold2==NULL)\n",
        "\t{\n",
        "\t\tprintf(\"File does not exist or error in opening.\\n\");\n",
        "\t\texit(EXIT_FAILURE);\n",
        "\t}\n",
        "\tfnew=fopen(fname3,\"w\");\n",
        "\tif(fnew==NULL)\n",
        "\t{\n",
        "\t\tprintf(\"File does not exist or error in opening.\\n\");\n",
        "\t\texit(EXIT_FAILURE);\n",
        "\t}\n",
        "\twhile((ch=fgetc(fold1))!=EOF)\n",
        "\t{\n",
        "\t\tfputc(ch,fnew);\n",
        "\t}\n",
        "\twhile((ch=fgetc(fold2))!=EOF)\n",
        "\t{\n",
        "\t\tfputc(ch,fnew);\n",
        "\t}\n",
        "\tprintf(\"The two files merged into %s file successfully..!!\", fname3);\n",
        "\tfclose(fold1);\n",
        "\tfclose(fold2);\n",
        "\tfclose(fnew);\n",
        "}"
      ],
      "execution_count": null,
      "outputs": []
    }
  ]
}