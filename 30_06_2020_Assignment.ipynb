{
  "nbformat": 4,
  "nbformat_minor": 0,
  "metadata": {
    "colab": {
      "name": "30-06-2020 Assignment",
      "provenance": [],
      "authorship_tag": "ABX9TyNjZbnm4sIndVG64jiJ7pgy",
      "include_colab_link": true
    },
    "kernelspec": {
      "name": "python3",
      "display_name": "Python 3"
    }
  },
  "cells": [
    {
      "cell_type": "markdown",
      "metadata": {
        "id": "view-in-github",
        "colab_type": "text"
      },
      "source": [
        "<a href=\"https://colab.research.google.com/github/pravallika00/Adv-Prog/blob/master/30_06_2020_Assignment.ipynb\" target=\"_parent\"><img src=\"https://colab.research.google.com/assets/colab-badge.svg\" alt=\"Open In Colab\"/></a>"
      ]
    },
    {
      "cell_type": "markdown",
      "metadata": {
        "id": "ErLs0SSNk0hm",
        "colab_type": "text"
      },
      "source": [
        "#CSE-221710307021-Pravallika"
      ]
    },
    {
      "cell_type": "markdown",
      "metadata": {
        "id": "YL7Ube3Qk0db",
        "colab_type": "text"
      },
      "source": [
        "#1) Write a c program to reverse a string using stack .\n",
        "Test Data : experience\n",
        "Expected output : ecneirepxe"
      ]
    },
    {
      "cell_type": "code",
      "metadata": {
        "id": "x84g4SgoktX7",
        "colab_type": "code",
        "colab": {}
      },
      "source": [
        "#include<stdio.h>\n",
        "#include<string.h>\n",
        "#define max 100\n",
        "int top=-1;\n",
        "int item;\n",
        "char stack[100];\n",
        "void push(char item)\n",
        "{\n",
        "    if(top==max-1)\n",
        "    {\n",
        "        return ;\n",
        "    }\n",
        "    top=top+1;\n",
        "    stack[top]=item;\n",
        "}\n",
        "int pop()\n",
        "{\n",
        "    if(top==-1)\n",
        "    {\n",
        "        return;\n",
        "    }\n",
        "    item=stack[top];\n",
        "    top=top-1;\n",
        "    return item;\n",
        "}\n",
        "int main()\n",
        "{\n",
        "    int i;\n",
        "    char s[100];\n",
        "    scanf(\"%[^\\n]s\",s);\n",
        "    for(i=0;i<strlen(s);i++)\n",
        "        push(s[i]);\n",
        "    for(i=0;i<strlen(s);i++)\n",
        "    {\n",
        "        s[i]=pop();\n",
        "    }\n",
        "    printf(\"The string after reversing is : %s\",s);\n",
        "}"
      ],
      "execution_count": null,
      "outputs": []
    },
    {
      "cell_type": "markdown",
      "metadata": {
        "id": "N2-tELDck6_K",
        "colab_type": "text"
      },
      "source": [
        "#2) Write a c program to insert and delete the elements in Queue."
      ]
    },
    {
      "cell_type": "code",
      "metadata": {
        "id": "ljjCTIBuk7Zz",
        "colab_type": "code",
        "colab": {}
      },
      "source": [
        "#include<stdio.h>\n",
        "#include<conio.h>\n",
        "int main()\n",
        "{\n",
        "    int a[5],f=-1,r=-1,x,i;\n",
        "    while(1)\n",
        "    {\n",
        "        system(\"cls\");\n",
        "        printf(\"\\n QUEUE OPERATIONS\");\n",
        "        printf(\"\\n 1. Enqueue\");\n",
        "        printf(\"\\n 2. Dequeue\");\n",
        "        printf(\"\\n 3. Display\");\n",
        "        printf(\"\\n 4. Exit\");\n",
        "        printf(\"\\n Enter your choice : \");\n",
        "        scanf(\"%d\",&x);\n",
        "        switch(x)\n",
        "        {\n",
        "            case 1: if(r<4)\n",
        "                    {\n",
        "                        r++;\n",
        "                        if(r==0)\n",
        "                        {\n",
        "                            f=0;\n",
        "                        }\n",
        "                        printf(\"\\n Enter a value : \");\n",
        "                        scanf(\"%d\",&a[r]);\n",
        "                        printf(\"\\n Value is inserted to Queue\");\n",
        "                        getch();\n",
        "                    }\n",
        "                    else\n",
        "                    {\n",
        "                        printf(\"\\n Queue is full\");\n",
        "                        getch();\n",
        "                    }\n",
        "            break;\n",
        "            case 2: if(f!=-1 && r!=-1)\n",
        "                    {\n",
        "                        //check that queue is having single item or more than single item\n",
        "                        if(f==r)\n",
        "                        {\n",
        "                            a[f]=-1;\n",
        "                            f=-1;\n",
        "                            r=-1;\n",
        "                            printf(\"\\n Value is removed from the queue\");\n",
        "                            getch();\n",
        "                        }\n",
        "                        else{\n",
        "                            for(i=f+1;i<=r;i++)\n",
        "                            {\n",
        "                                if(i==r)\n",
        "                                {\n",
        "                                    a[i-1]=a[i];\n",
        "                                    a[i]=-1;//a[r]=-1\n",
        "                                    r--;\n",
        "                                }\n",
        "                                else\n",
        "                                {\n",
        "                                    a[i-1]=a[i];\n",
        "                                }\n",
        "                                printf(\"\\n Value is removed from the queue\");\n",
        "                                getch();\n",
        "                            }                                        }\n",
        "                       }\n",
        "                       else{\n",
        "                           printf(\"\\n Queue is empty\");\n",
        "                           getch();\n",
        "                       }\n",
        "            break;\n",
        "            case 3: if(f!=-1 && r!=-1)\n",
        "                            {\n",
        "                                printf(\"\\n Queue value is : \\n\");\n",
        "                                for(i=f;i<=r;i++)\n",
        "                                {\n",
        "                                    printf(\"%d \",a[i]);\n",
        "                                }\n",
        "                                getch();\n",
        "                            }\n",
        "                            else\n",
        "                            {\n",
        "                                printf(\"\\n Queue is empty\");\n",
        "                                getch();\n",
        "                            }\n",
        "            break;\n",
        "            case 4: printf(\"\\n Program is terminated...\");\n",
        "            return ;\n",
        "            break;\n",
        "\n",
        "        }\n",
        "    }\n",
        "   return 0;\n",
        "}"
      ],
      "execution_count": null,
      "outputs": []
    }
  ]
}