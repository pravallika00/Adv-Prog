{
  "nbformat": 4,
  "nbformat_minor": 0,
  "metadata": {
    "colab": {
      "name": " 09-07-2020 Assignment",
      "provenance": [],
      "authorship_tag": "ABX9TyMDjGqgM2R1aKFt70pl58rH",
      "include_colab_link": true
    },
    "kernelspec": {
      "name": "python3",
      "display_name": "Python 3"
    }
  },
  "cells": [
    {
      "cell_type": "markdown",
      "metadata": {
        "id": "view-in-github",
        "colab_type": "text"
      },
      "source": [
        "<a href=\"https://colab.research.google.com/github/pravallika00/Adv-Prog/blob/master/09_07_2020_Assignment.ipynb\" target=\"_parent\"><img src=\"https://colab.research.google.com/assets/colab-badge.svg\" alt=\"Open In Colab\"/></a>"
      ]
    },
    {
      "cell_type": "markdown",
      "metadata": {
        "id": "XHcmVie4mbuO",
        "colab_type": "text"
      },
      "source": [
        "#CSE-221710307021-Pravallika"
      ]
    },
    {
      "cell_type": "markdown",
      "metadata": {
        "id": "kr7F56fqmbqY",
        "colab_type": "text"
      },
      "source": [
        "#1.) Write a program in C++ to swap the values of two variables not using third variable."
      ]
    },
    {
      "cell_type": "code",
      "metadata": {
        "id": "seOJQnaJmH1m",
        "colab_type": "code",
        "colab": {}
      },
      "source": [
        "#include<iostream>\n",
        "using namespace std;\n",
        "int main()\n",
        "{\n",
        "    int a,b;\n",
        "    cout<<\"Enter the value of a : \"<<endl;\n",
        "    cin>>a;\n",
        "    cout<<\"Enter the value of b : \"<<endl;\n",
        "    cin>>b;\n",
        "    cout<<\"Before swapping the value of a is : \"<<a<<endl;\n",
        "    cout<<\"Before swapping the value of b is : \"<<b<<endl;\n",
        "    a=a+b;\n",
        "    b=a-b;\n",
        "    a=a-b;\n",
        "    cout<<\"After swapping the value of a is : \"<<a<<endl;\n",
        "    cout<<\"After swapping the value of b is : \"<<b<<endl;\n",
        "    return 0;\n",
        "}"
      ],
      "execution_count": null,
      "outputs": []
    },
    {
      "cell_type": "markdown",
      "metadata": {
        "id": "ero-AtTsmmDN",
        "colab_type": "text"
      },
      "source": [
        "#2.) An even number of 4 or more can be represented by the sum of two prime numbers. This is called Goldbach expectation, and it is confirmed that it is correct up to a considerably large number by computer calculation. For example, 10 can be expressed as the sum of two prime numbers 7 + 3, 5 + 5.\n",
        "\n",
        "Write a C++ program that accept an integer (n) from the user and outputs the number of combinations that express n as a sum of two prime numbers.\n",
        "Note: n should be greater than or equal to 4 and less than or equal to 50,000.\n",
        "\n",
        "Expected output:\n",
        "Input number : 26 \n",
        "Number of combinations : 3\n"
      ]
    },
    {
      "cell_type": "code",
      "metadata": {
        "id": "TLFzES3LmqTV",
        "colab_type": "code",
        "colab": {}
      },
      "source": [
        "#include <iostream>\n",
        "using namespace std;\n",
        "\n",
        "int search(const int a[],int h,int key)\n",
        "{\n",
        "    int l=0,mid,n=-1;\n",
        "    while(l<=h){\n",
        "        mid=(l+h)/2;\n",
        "        if(a[mid]==key)\n",
        "        {\n",
        "            n=mid;\n",
        "            break;\n",
        "        }\n",
        "        else if(a[mid]<key)\n",
        "        {\n",
        "            l=mid+1;\n",
        "        }\n",
        "        else\n",
        "        {\n",
        "            h= mid-1;\n",
        "        }\n",
        "    }\n",
        "    return(n);\n",
        "}\n",
        "\n",
        "int main(void)\n",
        "{\n",
        "    int prime[5136];\n",
        "    prime[1]=2;\n",
        "    prime[2]=3;\n",
        "    int ptr=3,num,i;\n",
        "    for(num=5;num<=50000;num++)\n",
        "    {\n",
        "        bool f=false;\n",
        "        for(i=1;i<ptr;i++)\n",
        "        {\n",
        "            if(prime[i]*prime[i]>num)\n",
        "            {\n",
        "                break;\n",
        "            }\n",
        "            if(num%prime[i]==0)\n",
        "            {\n",
        "                f=true;\n",
        "                break;\n",
        "            }\n",
        "        }\n",
        "        if(!f)\n",
        "        {\n",
        "            prime[ptr++]=num;\n",
        "        }\n",
        "    }\n",
        "    prime[ptr]=50001;\n",
        "    int n;\n",
        "    while(cin>>n)\n",
        "    {\n",
        "        if(!n)\n",
        "            break;\n",
        "        int count=0;\n",
        "        if(n%2==0)\n",
        "        {\n",
        "            for(i=1;prime[i]<=n/2;i++)\n",
        "            {\n",
        "                if(search(prime,ptr,n-prime[i])!=-1)\n",
        "                    count++;\n",
        "            }\n",
        "        }\n",
        "        else\n",
        "        {\n",
        "            if(search(prime,ptr,n-2)!=-1)\n",
        "                count++;\n",
        "        }\n",
        "        cout<<\"Input number: \"<<n<<endl;\n",
        "        cout<<\"Number of combinations: \"<<count<<endl;\n",
        "    }\n",
        "    return 0;\n",
        "}"
      ],
      "execution_count": null,
      "outputs": []
    }
  ]
}