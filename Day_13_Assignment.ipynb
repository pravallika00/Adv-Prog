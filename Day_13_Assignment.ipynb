{
  "nbformat": 4,
  "nbformat_minor": 0,
  "metadata": {
    "colab": {
      "name": "Day 13 Assignment",
      "provenance": [],
      "authorship_tag": "ABX9TyMEhNjQho5FBbTEz03xmSRe",
      "include_colab_link": true
    },
    "kernelspec": {
      "name": "python3",
      "display_name": "Python 3"
    }
  },
  "cells": [
    {
      "cell_type": "markdown",
      "metadata": {
        "id": "view-in-github",
        "colab_type": "text"
      },
      "source": [
        "<a href=\"https://colab.research.google.com/github/pravallika00/Adv-Prog/blob/master/Day_13_Assignment.ipynb\" target=\"_parent\"><img src=\"https://colab.research.google.com/assets/colab-badge.svg\" alt=\"Open In Colab\"/></a>"
      ]
    },
    {
      "cell_type": "markdown",
      "metadata": {
        "id": "DKx36MJk60dL",
        "colab_type": "text"
      },
      "source": [
        "#CSE-221710307021-Pravallika"
      ]
    },
    {
      "cell_type": "markdown",
      "metadata": {
        "id": "CUoOETA760Cr",
        "colab_type": "text"
      },
      "source": [
        "#1)WAP to check sum of even index elements of an array is a prime num or not\n",
        "\n",
        "10,23,45,22,65,87,33"
      ]
    },
    {
      "cell_type": "code",
      "metadata": {
        "id": "3F09D8jP6uQr",
        "colab_type": "code",
        "colab": {}
      },
      "source": [
        " #include<stdio.h>\n",
        "int main()\n",
        "{\n",
        " int a[6],i,sum=0;\n",
        " for(i=0;i<6;i++)\n",
        " {\n",
        " scanf(\"%d\",&a[i]);\n",
        " if(i%2==0)\n",
        "  sum = sum+a[i];\n",
        " }\n",
        " for(i=2;i<sum;i++)\n",
        " if(sum%i==0)\n",
        " {\n",
        "  printf(\"Not a prime number\");\n",
        "  goto label;\n",
        " }\n",
        " printf(\"Prime number\");\n",
        " label:\n",
        " return 0;\n",
        "}"
      ],
      "execution_count": 0,
      "outputs": []
    },
    {
      "cell_type": "markdown",
      "metadata": {
        "id": "FnsSUa6V64Jl",
        "colab_type": "text"
      },
      "source": [
        "#2)Accept a num\n",
        "12345678\n",
        "Find sum of digits at even places and check whether the sum is prime or not\n",
        "7+5+3+1=16"
      ]
    },
    {
      "cell_type": "code",
      "metadata": {
        "id": "EXv3dVPo642B",
        "colab_type": "code",
        "colab": {}
      },
      "source": [
        "#include<stdio.h>\n",
        "int main()\n",
        "{\n",
        " int a[6],i,sum=0;\n",
        " for(i=0;i<6;i++)\n",
        " {\n",
        " scanf(\"%d\",&a[i]);\n",
        " if(i%2==0)\n",
        "  sum = sum+a[i];\n",
        " }\n",
        " for(i=2;i<sum;i++)\n",
        " if(sum%i==0)\n",
        " {\n",
        "  printf(\"Not a prime number\");\n",
        "  goto label;\n",
        " }\n",
        " printf(\"Prime number\");\n",
        " label:\n",
        " return 0;\n",
        "}"
      ],
      "execution_count": 0,
      "outputs": []
    }
  ]
}