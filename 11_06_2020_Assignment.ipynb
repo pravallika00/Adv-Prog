{
  "nbformat": 4,
  "nbformat_minor": 0,
  "metadata": {
    "colab": {
      "name": "11-06-2020 Assignment",
      "provenance": [],
      "authorship_tag": "ABX9TyPkBZjAwheEyODSVNZRZrKi",
      "include_colab_link": true
    },
    "kernelspec": {
      "name": "python3",
      "display_name": "Python 3"
    }
  },
  "cells": [
    {
      "cell_type": "markdown",
      "metadata": {
        "id": "view-in-github",
        "colab_type": "text"
      },
      "source": [
        "<a href=\"https://colab.research.google.com/github/pravallika00/Adv-Prog/blob/master/11_06_2020_Assignment.ipynb\" target=\"_parent\"><img src=\"https://colab.research.google.com/assets/colab-badge.svg\" alt=\"Open In Colab\"/></a>"
      ]
    },
    {
      "cell_type": "markdown",
      "metadata": {
        "id": "MdqLz-Js501Z",
        "colab_type": "text"
      },
      "source": [
        "#CSE-221710307021-Pravallika"
      ]
    },
    {
      "cell_type": "markdown",
      "metadata": {
        "id": "9kHSHQCA50pZ",
        "colab_type": "text"
      },
      "source": [
        "#1 Write a C program to read temperature in centigrade and display a suitable message according to temperature stated below.\n",
        "\tTemp <0 then Freezing weather\n",
        "\tTemp 0-10 then very cold weather\n",
        "\tTemp 10-20 then cold weather\n",
        "\tTemp 20-30 then normal in temperature\n",
        "\tTemp 30-40 then its hot\n",
        "\tTemp >=40 then its very hot \n",
        " input data : 43\n",
        "Expected  output : it very hot "
      ]
    },
    {
      "cell_type": "code",
      "metadata": {
        "id": "CqTz6fLn5oBB",
        "colab_type": "code",
        "colab": {}
      },
      "source": [
        "#include <stdio.h>\n",
        "void main()\n",
        "{\n",
        "int tmp;\n",
        "printf(\"Input days temperature : \");\n",
        "scanf(\"%d\",&tmp);\n",
        "if(tmp<0)\n",
        "  printf(\"Freezing weather.\\n\");\n",
        "else if(tmp<10)\n",
        "  printf(\"Very cold weather.\\n\");\n",
        "else if(tmp<20)\n",
        "  printf(\"Cold weather.\\n\");\n",
        "else if(tmp<30)\n",
        "  printf(\"Normal in temp.\\n\");\n",
        "else if(tmp<40)\n",
        "  printf(\"Its Hot.\\n\");\n",
        "else\n",
        "  printf(\"Its very hot.\\n\");"
      ],
      "execution_count": 0,
      "outputs": []
    },
    {
      "cell_type": "markdown",
      "metadata": {
        "id": "Yg5Y1E_nF0cR",
        "colab_type": "text"
      },
      "source": [
        "#2. Write a program in C to display the multipliaction table vertically from 1 to n. \n",
        "Test Data : Input upto the table number starting from 1 : 8\n",
        "Expected Output :\n",
        "Multiplication table from 1 to 8\n",
        "1x1 = 1, 2x1 = 2, 3x1 = 3, 4x1 = 4, 5x1 = 5, 6x1 = 6, 7x1 = 7, 8x1 = 8\n",
        "...\n",
        "1x10 = 10, 2x10 = 20, 3x10 = 30, 4x10 = 40, 5x10 = 50, 6x10 = 60, 7x10 = 70, 8x10 = 80\n"
      ]
    },
    {
      "cell_type": "code",
      "metadata": {
        "id": "gFc41HkRF58Y",
        "colab_type": "code",
        "colab": {}
      },
      "source": [
        "#include <stdio.h>\n",
        "void main()\n",
        "{\n",
        "   int j,i,n;\n",
        "   printf(\"Input upto the table number starting from 1 : \");\n",
        "   scanf(\"%d\",&n);\n",
        "   printf(\"Multiplication table from 1 to %d \\n\",n);\n",
        "   for(i=1;i<=10;i++)\n",
        "   {\n",
        "     for(j=1;j<=n;j++)\n",
        "     {\n",
        "       if (j<=n-1)\n",
        "           printf(\"%dx%d = %d, \",j,i,i*j);\n",
        "          else\n",
        "\t    printf(\"%dx%d = %d\",j,i,i*j);\n",
        "\n",
        "      }\n",
        "     printf(\"\\n\");\n",
        "    }\n",
        "}"
      ],
      "execution_count": 0,
      "outputs": []
    }
  ]
}