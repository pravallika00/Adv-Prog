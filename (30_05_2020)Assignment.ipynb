{
  "nbformat": 4,
  "nbformat_minor": 0,
  "metadata": {
    "colab": {
      "name": "(30-05-2020)Assignment",
      "provenance": [],
      "authorship_tag": "ABX9TyNFLNo5F4JZY42FLSPgTj2A",
      "include_colab_link": true
    },
    "kernelspec": {
      "name": "python3",
      "display_name": "Python 3"
    }
  },
  "cells": [
    {
      "cell_type": "markdown",
      "metadata": {
        "id": "view-in-github",
        "colab_type": "text"
      },
      "source": [
        "<a href=\"https://colab.research.google.com/github/pravallika00/Adv-Prog/blob/master/(30_05_2020)Assignment.ipynb\" target=\"_parent\"><img src=\"https://colab.research.google.com/assets/colab-badge.svg\" alt=\"Open In Colab\"/></a>"
      ]
    },
    {
      "cell_type": "markdown",
      "metadata": {
        "id": "WQBzXs26Tbg2",
        "colab_type": "text"
      },
      "source": [
        "#CSE-221710307021-Pravallika"
      ]
    },
    {
      "cell_type": "markdown",
      "metadata": {
        "id": "bvJMbGE8Tykh",
        "colab_type": "text"
      },
      "source": [
        "##File creation"
      ]
    },
    {
      "cell_type": "code",
      "metadata": {
        "id": "SS_aZPExTUrd",
        "colab_type": "code",
        "colab": {}
      },
      "source": [
        "\n",
        "f=open(\"sample.txt\",\"w\")\n",
        "f.write(\"Hi Hello\")\n",
        "f.close()"
      ],
      "execution_count": 0,
      "outputs": []
    },
    {
      "cell_type": "code",
      "metadata": {
        "id": "b7Em54zjT9IW",
        "colab_type": "code",
        "colab": {}
      },
      "source": [
        "f=open(\"sample.txt\",\"a\")\n",
        "s='''\\n This is python programming\n",
        "in Advanced Programming'''\n",
        "f.write(s)\n",
        "f.close()"
      ],
      "execution_count": 0,
      "outputs": []
    },
    {
      "cell_type": "markdown",
      "metadata": {
        "id": "vfcJ4JUgUHOJ",
        "colab_type": "text"
      },
      "source": [
        "##Question 1:\n",
        "Count the no.of words,no.of letters,no.of lines available in your file"
      ]
    },
    {
      "cell_type": "code",
      "metadata": {
        "id": "4Q-KPlW5ULB_",
        "colab_type": "code",
        "colab": {
          "base_uri": "https://localhost:8080/",
          "height": 34
        },
        "outputId": "3f4a58fd-9c71-4cb6-baf3-f64d3acfdfa2"
      },
      "source": [
        "\n",
        "f = open(\"sample.txt\", \"r\")\n",
        "\n",
        "numberoflines = 0\n",
        "numberofwords = 0\n",
        "letters = 0\n",
        "for l in f:\n",
        "  l = l.strip(\"\\n\")\n",
        "\n",
        "  words = l.split()\n",
        "  numberoflines += 1\n",
        "  numberofwords += len(words)\n",
        "  letters += len(l)\n",
        "\n",
        "f.close()\n",
        "\n",
        "print(\"lines:\", numberoflines, \"words:\", numberofwords, \"letters:\", letters)"
      ],
      "execution_count": 3,
      "outputs": [
        {
          "output_type": "stream",
          "text": [
            "lines: 1 words: 2 letters: 8\n"
          ],
          "name": "stdout"
        }
      ]
    },
    {
      "cell_type": "markdown",
      "metadata": {
        "id": "XgEk2MrAUV4S",
        "colab_type": "text"
      },
      "source": [
        "##Question 2:\n",
        "Copy the content of one file to another"
      ]
    },
    {
      "cell_type": "code",
      "metadata": {
        "id": "CnI1ca-qUXhv",
        "colab_type": "code",
        "colab": {}
      },
      "source": [
        "\n",
        "f=open(\"sample.txt\",\"r\")\n",
        "f1=open(\"text.txt\",\"w\")\n",
        "for line in f:\n",
        "  f1.write(line)\n",
        "f.close()\n",
        "f1.close()"
      ],
      "execution_count": 0,
      "outputs": []
    },
    {
      "cell_type": "code",
      "metadata": {
        "id": "E-0KeDJtUgnv",
        "colab_type": "code",
        "colab": {
          "base_uri": "https://localhost:8080/",
          "height": 67
        },
        "outputId": "18166aa9-59fe-440f-c1b1-9ca884417d7e"
      },
      "source": [
        "\n",
        "f1=open(\"text.txt\",\"r\")\n",
        "data=f1.read()\n",
        "print(data)\n",
        "f1.close()"
      ],
      "execution_count": 11,
      "outputs": [
        {
          "output_type": "stream",
          "text": [
            "Hi Hello\n",
            " This is python programming\n",
            "in Advanced Programming\n"
          ],
          "name": "stdout"
        }
      ]
    },
    {
      "cell_type": "markdown",
      "metadata": {
        "id": "nD6n_sTKU9uW",
        "colab_type": "text"
      },
      "source": [
        "##Question 3:\n",
        "Display the words starting with letter 'p'"
      ]
    },
    {
      "cell_type": "code",
      "metadata": {
        "id": "lwuHhen-U_Zu",
        "colab_type": "code",
        "colab": {
          "base_uri": "https://localhost:8080/",
          "height": 50
        },
        "outputId": "76ad00ee-c2b5-494c-e1ca-032eb8ec81bb"
      },
      "source": [
        "f=open(\"sample.txt\",\"r\")\n",
        "for line in f:\n",
        "  words=line.split()\n",
        "  for i in words:\n",
        "    if(i[0]==\"p\"):\n",
        "      print(i)"
      ],
      "execution_count": 12,
      "outputs": [
        {
          "output_type": "stream",
          "text": [
            "python\n",
            "programming\n"
          ],
          "name": "stdout"
        }
      ]
    },
    {
      "cell_type": "markdown",
      "metadata": {
        "id": "NCPwgUG-VFQI",
        "colab_type": "text"
      },
      "source": [
        "##\n",
        "Question 4:\n",
        "Rename and remove files"
      ]
    },
    {
      "cell_type": "code",
      "metadata": {
        "id": "Vceepb5CVLl-",
        "colab_type": "code",
        "colab": {}
      },
      "source": [
        "import os\n",
        "os.rename(\"text.txt\",\"new.txt\")\n",
        "os.remove(\"new.txt\")"
      ],
      "execution_count": 0,
      "outputs": []
    },
    {
      "cell_type": "markdown",
      "metadata": {
        "id": "LlQydaLWVP45",
        "colab_type": "text"
      },
      "source": [
        "##\n",
        "Question 5:\n",
        "Create a folder\n",
        "Goto that folder and create 5 no.of files\n",
        "All the file names should be unique\n",
        "Add some content into the file and the content in all the files should be unique\n",
        "File size should be 512bits"
      ]
    },
    {
      "cell_type": "code",
      "metadata": {
        "id": "B21q_WyWVTk5",
        "colab_type": "code",
        "colab": {
          "base_uri": "https://localhost:8080/",
          "height": 34
        },
        "outputId": "c799246b-9aa1-4ced-8735-679915e6d9aa"
      },
      "source": [
        "import os\n",
        "path=\"/tmp/ap\"\n",
        "\n",
        "try:\n",
        "  os.mkdir(path)\n",
        "except OSError:\n",
        "  print(\"unsuccessfull \")\n",
        "else:\n",
        "  print(\"Successfully created the directory %s\" %path)"
      ],
      "execution_count": 14,
      "outputs": [
        {
          "output_type": "stream",
          "text": [
            "Successfully created the directory /tmp/ap\n"
          ],
          "name": "stdout"
        }
      ]
    },
    {
      "cell_type": "code",
      "metadata": {
        "id": "e3vcOjadVeiG",
        "colab_type": "code",
        "colab": {}
      },
      "source": [
        "\n",
        "import os\n",
        "path=\"/tmp/ap\"\n",
        "os.chdir(path)"
      ],
      "execution_count": 0,
      "outputs": []
    },
    {
      "cell_type": "code",
      "metadata": {
        "id": "oE4PUL3lVi6_",
        "colab_type": "code",
        "colab": {}
      },
      "source": [
        "f=open(os.path.join('/tmp/ap','file1.txt'),\"w\")\n",
        "f.write(\"This is the first file in the folder ap(advanced programming)   \")\n",
        "f.close()"
      ],
      "execution_count": 0,
      "outputs": []
    },
    {
      "cell_type": "code",
      "metadata": {
        "id": "_Fl7MWbvVlNP",
        "colab_type": "code",
        "colab": {}
      },
      "source": [
        "f=open(os.path.join('/tmp/ap','file2.txt'),\"w\")\n",
        "f.write(\"This is the second file in the folder ap(advanced programming)  \")\n",
        "f.close()"
      ],
      "execution_count": 0,
      "outputs": []
    },
    {
      "cell_type": "code",
      "metadata": {
        "id": "oM8n4nqCVqmu",
        "colab_type": "code",
        "colab": {}
      },
      "source": [
        "f=open(os.path.join('/tmp/ap','file3.txt'),\"w\")\n",
        "f.write(\"This is the third file in the ap(advanced programming) floder   \")\n",
        "f.close()"
      ],
      "execution_count": 0,
      "outputs": []
    },
    {
      "cell_type": "code",
      "metadata": {
        "id": "PFqMudZLVujn",
        "colab_type": "code",
        "colab": {}
      },
      "source": [
        "\n",
        "f=open(os.path.join('/tmp/ap','file4.txt'),\"w\")\n",
        "f.write(\"This is the fourth file                                         \")\n",
        "f.close()"
      ],
      "execution_count": 0,
      "outputs": []
    },
    {
      "cell_type": "code",
      "metadata": {
        "id": "3s4G9Dn9V5Rk",
        "colab_type": "code",
        "colab": {}
      },
      "source": [
        "\n",
        "f=open(os.path.join('/tmp/ap','file5.txt'),\"w\")\n",
        "f.write(\"This is the fifth file                                          \")\n",
        "f.close()"
      ],
      "execution_count": 0,
      "outputs": []
    },
    {
      "cell_type": "code",
      "metadata": {
        "id": "8dJpa40dV_9q",
        "colab_type": "code",
        "colab": {
          "base_uri": "https://localhost:8080/",
          "height": 50
        },
        "outputId": "af90adc0-be34-4e73-efa1-d4ecda8bc9e8"
      },
      "source": [
        "import os\n",
        "file=\"/tmp/ap/file1.txt\"\n",
        "f_stats=os.stat('file1.txt')\n",
        "print(f_stats)\n",
        "print(f'File size {f_stats.st_size} bytes')"
      ],
      "execution_count": 21,
      "outputs": [
        {
          "output_type": "stream",
          "text": [
            "os.stat_result(st_mode=33188, st_ino=6422614, st_dev=51, st_nlink=1, st_uid=0, st_gid=0, st_size=64, st_atime=1590989045, st_mtime=1590989045, st_ctime=1590989045)\n",
            "File size 64 bytes\n"
          ],
          "name": "stdout"
        }
      ]
    },
    {
      "cell_type": "code",
      "metadata": {
        "id": "jQ7TD2X7WCfk",
        "colab_type": "code",
        "colab": {
          "base_uri": "https://localhost:8080/",
          "height": 50
        },
        "outputId": "7f3d0a6e-d3d9-476a-c45e-5a0a46cc057c"
      },
      "source": [
        "import os\n",
        "file=\"/tmp/ap/file2.txt\"\n",
        "f_stats=os.stat('file2.txt')\n",
        "print(f_stats)\n",
        "print(f'File size {f_stats.st_size} bytes')"
      ],
      "execution_count": 22,
      "outputs": [
        {
          "output_type": "stream",
          "text": [
            "os.stat_result(st_mode=33188, st_ino=6422615, st_dev=51, st_nlink=1, st_uid=0, st_gid=0, st_size=64, st_atime=1590989069, st_mtime=1590989069, st_ctime=1590989069)\n",
            "File size 64 bytes\n"
          ],
          "name": "stdout"
        }
      ]
    },
    {
      "cell_type": "code",
      "metadata": {
        "id": "6Bf4QRXzWJzD",
        "colab_type": "code",
        "colab": {
          "base_uri": "https://localhost:8080/",
          "height": 50
        },
        "outputId": "8131137a-d31d-43e8-c16d-4a63191a847d"
      },
      "source": [
        "import os\n",
        "file=\"/tmp/ap/file3.txt\"\n",
        "f_stats=os.stat('file3.txt')\n",
        "print(f_stats)\n",
        "print(f'File size {f_stats.st_size} bytes')"
      ],
      "execution_count": 23,
      "outputs": [
        {
          "output_type": "stream",
          "text": [
            "os.stat_result(st_mode=33188, st_ino=6422616, st_dev=51, st_nlink=1, st_uid=0, st_gid=0, st_size=64, st_atime=1590989086, st_mtime=1590989086, st_ctime=1590989086)\n",
            "File size 64 bytes\n"
          ],
          "name": "stdout"
        }
      ]
    },
    {
      "cell_type": "code",
      "metadata": {
        "id": "OsNMHtJsWSzX",
        "colab_type": "code",
        "colab": {
          "base_uri": "https://localhost:8080/",
          "height": 50
        },
        "outputId": "f91096e3-d0a1-4b94-8d92-661b5c5306c3"
      },
      "source": [
        "\n",
        "import os\n",
        "file=\"/tmp/ap/file4.txt\"\n",
        "f_stats=os.stat('file4.txt')\n",
        "print(f_stats)\n",
        "print(f'File size {f_stats.st_size} bytes')"
      ],
      "execution_count": 24,
      "outputs": [
        {
          "output_type": "stream",
          "text": [
            "os.stat_result(st_mode=33188, st_ino=6422617, st_dev=51, st_nlink=1, st_uid=0, st_gid=0, st_size=64, st_atime=1590989120, st_mtime=1590989120, st_ctime=1590989120)\n",
            "File size 64 bytes\n"
          ],
          "name": "stdout"
        }
      ]
    },
    {
      "cell_type": "code",
      "metadata": {
        "id": "w0qWhiocWUoZ",
        "colab_type": "code",
        "colab": {
          "base_uri": "https://localhost:8080/",
          "height": 50
        },
        "outputId": "92a2e6ae-7415-40fe-d4b3-16de330b9251"
      },
      "source": [
        "\n",
        "import os\n",
        "file=\"/tmp/ap/file5.txt\"\n",
        "f_stats=os.stat('file5.txt')\n",
        "print(f_stats)\n",
        "print(f'File size {f_stats.st_size} bytes')"
      ],
      "execution_count": 25,
      "outputs": [
        {
          "output_type": "stream",
          "text": [
            "os.stat_result(st_mode=33188, st_ino=6422618, st_dev=51, st_nlink=1, st_uid=0, st_gid=0, st_size=64, st_atime=1590989139, st_mtime=1590989139, st_ctime=1590989139)\n",
            "File size 64 bytes\n"
          ],
          "name": "stdout"
        }
      ]
    }
  ]
}