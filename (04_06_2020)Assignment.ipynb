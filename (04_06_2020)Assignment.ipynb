{
  "nbformat": 4,
  "nbformat_minor": 0,
  "metadata": {
    "colab": {
      "name": "(04-06-2020)Assignment",
      "provenance": [],
      "authorship_tag": "ABX9TyPRsMzzadqlCMCy8Hnr+WPD",
      "include_colab_link": true
    },
    "kernelspec": {
      "name": "python3",
      "display_name": "Python 3"
    }
  },
  "cells": [
    {
      "cell_type": "markdown",
      "metadata": {
        "id": "view-in-github",
        "colab_type": "text"
      },
      "source": [
        "<a href=\"https://colab.research.google.com/github/pravallika00/Adv-Prog/blob/master/(04_06_2020)Assignment.ipynb\" target=\"_parent\"><img src=\"https://colab.research.google.com/assets/colab-badge.svg\" alt=\"Open In Colab\"/></a>"
      ]
    },
    {
      "cell_type": "markdown",
      "metadata": {
        "id": "GavlXd8zV1Iy",
        "colab_type": "text"
      },
      "source": [
        "#CSE-221710307021-Pravallika"
      ]
    },
    {
      "cell_type": "markdown",
      "metadata": {
        "id": "QDjJel8ZUm-x",
        "colab_type": "text"
      },
      "source": [
        "#Question 1:\n",
        "[Reversing an Array] \n",
        "Write a NumPy program to reverse an array (first element becomes last). \n",
        "Original array:\n",
        "[12 13 14 15 16 17 18 19 20 21 22 23 24 25 26 27 28 29 30 31 32 33 34 35 36 37]\n",
        "Reverse array:\n",
        "[37 36 35 34 33 32 31 30 29 28 27 26 25 24 23 22 21 20 19 18 17 16 15 14 13 12]\n"
      ]
    },
    {
      "cell_type": "code",
      "metadata": {
        "id": "Aoi5nlTAUdSB",
        "colab_type": "code",
        "colab": {
          "base_uri": "https://localhost:8080/",
          "height": 118
        },
        "outputId": "6ff113b8-a1a5-4ea1-d34c-c255008900fa"
      },
      "source": [
        "import numpy as np\n",
        "x = np.arange(12, 38)\n",
        "print(\"Original array:\")\n",
        "print(x)\n",
        "print(\"Reverse array:\")\n",
        "x = x[::-1]\n",
        "print(x)"
      ],
      "execution_count": 1,
      "outputs": [
        {
          "output_type": "stream",
          "text": [
            "Original array:\n",
            "[12 13 14 15 16 17 18 19 20 21 22 23 24 25 26 27 28 29 30 31 32 33 34 35\n",
            " 36 37]\n",
            "Reverse array:\n",
            "[37 36 35 34 33 32 31 30 29 28 27 26 25 24 23 22 21 20 19 18 17 16 15 14\n",
            " 13 12]\n"
          ],
          "name": "stdout"
        }
      ]
    },
    {
      "cell_type": "markdown",
      "metadata": {
        "id": "gNevcCEFUq6e",
        "colab_type": "text"
      },
      "source": [
        "#Question 2:\n",
        "[Make Border 1] \n",
        "Write a NumPy program to create a 2d array with 1 on the border and 0 inside. \n",
        "Original array:\n",
        "[[ 1. 1. 1. 1. 1.]\n",
        "...................\n",
        "[ 1. 1. 1. 1. 1.]]\n",
        "1 on the border and 0 inside in the array\n",
        "Expected output:\n",
        "[[ 1. 1. 1. 1. 1.]\n",
        " [1. 0. 0. 0. 1.]\n",
        "……………..\n",
        " [1. 0. 0. 0. 1.]\n",
        "[ 1. 1. 1. 1. 1.]]\n"
      ]
    },
    {
      "cell_type": "code",
      "metadata": {
        "id": "wWvo6g4oUuHc",
        "colab_type": "code",
        "colab": {
          "base_uri": "https://localhost:8080/",
          "height": 218
        },
        "outputId": "a50088a5-cc17-4e9c-e10f-56c65ba0144f"
      },
      "source": [
        "import numpy as np\n",
        "x = np.ones((5,5))\n",
        "print(\"Original array:\")\n",
        "print(x)\n",
        "print(\"1 on the border and 0 inside in the array\")\n",
        "x[1:-1,1:-1] = 0\n",
        "print(x)"
      ],
      "execution_count": 2,
      "outputs": [
        {
          "output_type": "stream",
          "text": [
            "Original array:\n",
            "[[1. 1. 1. 1. 1.]\n",
            " [1. 1. 1. 1. 1.]\n",
            " [1. 1. 1. 1. 1.]\n",
            " [1. 1. 1. 1. 1.]\n",
            " [1. 1. 1. 1. 1.]]\n",
            "1 on the border and 0 inside in the array\n",
            "[[1. 1. 1. 1. 1.]\n",
            " [1. 0. 0. 0. 1.]\n",
            " [1. 0. 0. 0. 1.]\n",
            " [1. 0. 0. 0. 1.]\n",
            " [1. 1. 1. 1. 1.]]\n"
          ],
          "name": "stdout"
        }
      ]
    },
    {
      "cell_type": "markdown",
      "metadata": {
        "id": "hzPriVnZUu4w",
        "colab_type": "text"
      },
      "source": [
        "#Question 3:\n",
        "[Membership Test] \n",
        "Write a NumPy program to test whether each element of a 1-D array is also present in a second array.\n",
        "Expected Output:\n",
        "Array1: [ 0 10 20 40 60]\n",
        "Array2: [0, 40]\n",
        "Compare each element of array1 and array2\n",
        "[ True False False True False]\n"
      ]
    },
    {
      "cell_type": "code",
      "metadata": {
        "id": "9L0UzRhBU0ld",
        "colab_type": "code",
        "colab": {
          "base_uri": "https://localhost:8080/",
          "height": 84
        },
        "outputId": "9c329c45-8d24-4b46-b9aa-c53d925860f9"
      },
      "source": [
        "import numpy as np\n",
        "array1 = np.array([0, 10, 20, 40, 60])\n",
        "print(\"Array1: \",array1)\n",
        "array2 = [0, 40]\n",
        "print(\"Array2: \",array2)\n",
        "print(\"Compare each element of array1 and array2\")\n",
        "print(np.in1d(array1, array2))"
      ],
      "execution_count": 3,
      "outputs": [
        {
          "output_type": "stream",
          "text": [
            "Array1:  [ 0 10 20 40 60]\n",
            "Array2:  [0, 40]\n",
            "Compare each element of array1 and array2\n",
            "[ True False False  True False]\n"
          ],
          "name": "stdout"
        }
      ]
    },
    {
      "cell_type": "markdown",
      "metadata": {
        "id": "-wONlBHiU1FZ",
        "colab_type": "text"
      },
      "source": [
        "#Question 4:\n",
        "[Set Difference] \n",
        "Write a NumPy program to find the set difference of two arrays. The set difference will return the sorted, unique values in array1 that are not in array2.\n",
        "Expected Output:\n",
        "Array1: [ 0 10 20 40 60 80]\n",
        "Array2: [10, 30, 40, 50, 70, 90]\n",
        "Set difference between two arrays:\n",
        "[ 0 20 60 80]\n"
      ]
    },
    {
      "cell_type": "code",
      "metadata": {
        "id": "qUGqJ455U5KZ",
        "colab_type": "code",
        "colab": {
          "base_uri": "https://localhost:8080/",
          "height": 84
        },
        "outputId": "cd545003-0a93-468f-a25c-6b65baba4df4"
      },
      "source": [
        "import numpy as np\n",
        "array1 = np.array([0, 10, 20, 40, 60, 80])\n",
        "print(\"Array1: \",array1)\n",
        "array2 = [10, 30, 40, 50, 70]\n",
        "print(\"Array2: \",array2)\n",
        "print(\"Unique values in array1 that are not in array2:\")\n",
        "print(np.setdiff1d(array1, array2))"
      ],
      "execution_count": 4,
      "outputs": [
        {
          "output_type": "stream",
          "text": [
            "Array1:  [ 0 10 20 40 60 80]\n",
            "Array2:  [10, 30, 40, 50, 70]\n",
            "Unique values in array1 that are not in array2:\n",
            "[ 0 20 60 80]\n"
          ],
          "name": "stdout"
        }
      ]
    },
    {
      "cell_type": "markdown",
      "metadata": {
        "id": "ubm2UH32U5sJ",
        "colab_type": "text"
      },
      "source": [
        "#Question 5:\n",
        "[Formation of Diagonal Matrix] \n",
        "Write a NumPy program to create a 2-D array whose diagonal equals [4, 5, 6, 8] and 0's elsewhere.\n",
        "Expected Output:\n",
        "[[4 0 0 0]\n",
        "[0 5 0 0]\n",
        "[0 0 6 0]\n",
        "[0 0 0 8]]\n"
      ]
    },
    {
      "cell_type": "code",
      "metadata": {
        "id": "UyFrQqnzU92J",
        "colab_type": "code",
        "colab": {
          "base_uri": "https://localhost:8080/",
          "height": 84
        },
        "outputId": "c5b86417-78e3-4ede-e032-6d9da695e00b"
      },
      "source": [
        "import numpy as np\n",
        "x =  np.diagflat([4, 5, 6, 8])\n",
        "print(x)"
      ],
      "execution_count": 5,
      "outputs": [
        {
          "output_type": "stream",
          "text": [
            "[[4 0 0 0]\n",
            " [0 5 0 0]\n",
            " [0 0 6 0]\n",
            " [0 0 0 8]]\n"
          ],
          "name": "stdout"
        }
      ]
    }
  ]
}