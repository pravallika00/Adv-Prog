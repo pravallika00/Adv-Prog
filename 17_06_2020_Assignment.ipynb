{
  "nbformat": 4,
  "nbformat_minor": 0,
  "metadata": {
    "colab": {
      "name": "17-06-2020 Assignment",
      "provenance": [],
      "authorship_tag": "ABX9TyOB8mvqLQNbLzFMT0YLsJV0",
      "include_colab_link": true
    },
    "kernelspec": {
      "name": "python3",
      "display_name": "Python 3"
    }
  },
  "cells": [
    {
      "cell_type": "markdown",
      "metadata": {
        "id": "view-in-github",
        "colab_type": "text"
      },
      "source": [
        "<a href=\"https://colab.research.google.com/github/pravallika00/Adv-Prog/blob/master/17_06_2020_Assignment.ipynb\" target=\"_parent\"><img src=\"https://colab.research.google.com/assets/colab-badge.svg\" alt=\"Open In Colab\"/></a>"
      ]
    },
    {
      "cell_type": "markdown",
      "metadata": {
        "id": "WCgKgh2zs-4E",
        "colab_type": "text"
      },
      "source": [
        "#CSE-221710307021-Pravallika"
      ]
    },
    {
      "cell_type": "markdown",
      "metadata": {
        "id": "IKbuo7wTs-yz",
        "colab_type": "text"
      },
      "source": [
        "# 1)Write a program in C to split string by space into words.\n",
        "Test Data :\n",
        "Input a string : this is a test string\n",
        "Expected Output :\n",
        "Strings or words after split by space are : \n",
        "this\n",
        "is \n",
        "a \n",
        "test \n",
        "string"
      ]
    },
    {
      "cell_type": "code",
      "metadata": {
        "id": "oM1wMH8Ys5pL",
        "colab_type": "code",
        "colab": {}
      },
      "source": [
        "#include<stdio.h>\n",
        "int main()\n",
        "{\n",
        "    char s[100];\n",
        "    int i,l;\n",
        "    printf(\"Enter a string:\\n\");\n",
        "    scanf(\"%[^\\n]s\",s);\n",
        "    l = strlen(s);\n",
        "    for(i=0;i<l;i++)\n",
        "    {\n",
        "        if(s[i]==32)\n",
        "        {\n",
        "        printf(\"\\n\");\n",
        "    }\n",
        "    else\n",
        "    {\n",
        "        printf(\"%c\",s[i]);\n",
        "    }\n",
        "    }\n",
        "    return 0;\n",
        "}"
      ],
      "execution_count": null,
      "outputs": []
    },
    {
      "cell_type": "markdown",
      "metadata": {
        "id": "JdLH_p9qtLhN",
        "colab_type": "text"
      },
      "source": [
        "#2) Write a C program to check whether a given substring is present in the given string. \n",
        "Test Data :\n",
        "Input the string : javascript\n",
        "Input the substring to be search : script\n",
        "Expected Output :\n",
        "The substring is exists in the string."
      ]
    },
    {
      "cell_type": "code",
      "metadata": {
        "id": "XY6_ENtotL9s",
        "colab_type": "code",
        "colab": {}
      },
      "source": [
        "#include <stdio.h>\n",
        "#include<string.h>\n",
        "\n",
        "int main()\n",
        "{\n",
        "    char s[100],t[100],z[100];\n",
        "   scanf(\"%s\",s);\n",
        "   scanf(\"%s\",t);\n",
        "    int l=strlen(t);\n",
        "    int f=0,i,j;\n",
        "    for(j=0;j<l;j++)\n",
        "    {\n",
        "        for(i=0;s[i]!='\\0';i++)\n",
        "        {\n",
        "            if(t[j]==s[i])\n",
        "            {\n",
        "                z[j]=s[i];\n",
        "                printf(\"%c\",z[j]);\n",
        "                f++;\n",
        "                break;\n",
        "            }\n",
        "        }\n",
        "        \n",
        "    }\n",
        "    z[j]='\\0';\n",
        "    if(strcmp(z,t)==0)\n",
        "    {\n",
        "        printf(\"Sub-String exists\");\n",
        "    }\n",
        "    else\n",
        "    {\n",
        "        printf(\"sub-string doesnt exist\");\n",
        "    }\n",
        "    \n",
        "}"
      ],
      "execution_count": null,
      "outputs": []
    },
    {
      "cell_type": "markdown",
      "metadata": {
        "id": "87qGthJ2tMYs",
        "colab_type": "text"
      },
      "source": [
        "#3)Write a program in C to read a sentence and replace lowercase characters by uppercase and vice-versa. \n",
        "Test Data :\n",
        "Input the string : This Is A Test String.\n",
        "Expected Output :\n",
        "The given sentence is   : This Is A Test String.\n",
        "After Case changed the string  is: tHIS iS a tEST sTRING."
      ]
    },
    {
      "cell_type": "code",
      "metadata": {
        "id": "j32SzIfetNHy",
        "colab_type": "code",
        "colab": {}
      },
      "source": [
        "#include <stdio.h>\n",
        "#include<string.h>\n",
        "\n",
        "int main()\n",
        "{\n",
        "    char s[100];\n",
        "   scanf(\"%[^\\n]s\",s);\n",
        "   \n",
        "    \n",
        "    int i,j;\n",
        "    for(i=0;s[i]!='\\0';i++)\n",
        "    {\n",
        "        if(s[i]>='a' && s[i]<='z')\n",
        "        {\n",
        "            s[i]=s[i]-32;\n",
        "            printf(\"%c\",s[i]);\n",
        "        }\n",
        "        else if(s[i]>='A' && s[i]<='Z')\n",
        "        {\n",
        "            s[i]=s[i]+32;\n",
        "            printf(\"%c\",s[i]);\n",
        "        }\n",
        "        else\n",
        "        {\n",
        "            printf(\" \");\n",
        "        }\n",
        "    }\n",
        "}"
      ],
      "execution_count": null,
      "outputs": []
    }
  ]
}