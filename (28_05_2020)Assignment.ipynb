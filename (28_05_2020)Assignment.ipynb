{
  "nbformat": 4,
  "nbformat_minor": 0,
  "metadata": {
    "colab": {
      "name": "(28-05-2020)Assignment",
      "provenance": [],
      "authorship_tag": "ABX9TyMnthXA2spGzEsef2iQcxLK",
      "include_colab_link": true
    },
    "kernelspec": {
      "name": "python3",
      "display_name": "Python 3"
    }
  },
  "cells": [
    {
      "cell_type": "markdown",
      "metadata": {
        "id": "view-in-github",
        "colab_type": "text"
      },
      "source": [
        "<a href=\"https://colab.research.google.com/github/pravallika00/Adv-Prog/blob/master/(28_05_2020)Assignment.ipynb\" target=\"_parent\"><img src=\"https://colab.research.google.com/assets/colab-badge.svg\" alt=\"Open In Colab\"/></a>"
      ]
    },
    {
      "cell_type": "markdown",
      "metadata": {
        "id": "lQdnhm-FMH00",
        "colab_type": "text"
      },
      "source": [
        "\n",
        "Question 1:\n",
        "Accept a string from the user and count no.of vowels,consonants and special characters\n"
      ]
    },
    {
      "cell_type": "markdown",
      "metadata": {
        "id": "V6I_SjGbNXqg",
        "colab_type": "text"
      },
      "source": [
        "####CSE-221710307021-Pravallika"
      ]
    },
    {
      "cell_type": "code",
      "metadata": {
        "id": "-nQ5nf0EMJbV",
        "colab_type": "code",
        "colab": {
          "base_uri": "https://localhost:8080/",
          "height": 84
        },
        "outputId": "1e78e6ef-3664-407b-a329-652b4b78b7c8"
      },
      "source": [
        "str = input(\"enter a string\")\n",
        "vowels = 0\n",
        "conso = 0\n",
        "sc = 0\n",
        "str=str.lower()\n",
        "for i in range(0,len(str)):\n",
        "\n",
        "  if str[i] == 'a' or str[i] == 'e' or str[i] == 'i' or str[i] == 'o' or str[i] =='u':\n",
        "    vowels = vowels + 1\n",
        "  elif str[i]>='a' and str[i]<='2':\n",
        "    conso = conso + 1\n",
        "  else:\n",
        "    sc= sc + 1\n",
        "print(vowels)\n",
        "print(conso)\n",
        "print(sc)"
      ],
      "execution_count": 7,
      "outputs": [
        {
          "output_type": "stream",
          "text": [
            "enter a stringgood!\n",
            "2\n",
            "0\n",
            "3\n"
          ],
          "name": "stdout"
        }
      ]
    },
    {
      "cell_type": "markdown",
      "metadata": {
        "id": "HPhDEZrROUWA",
        "colab_type": "text"
      },
      "source": [
        "#####Question 2:\n",
        "count the no.of pairs of a in the given string(Infosys InfyTQ)\n",
        "    string →  \"abbaaccbbaaa\"\n",
        "    output →  2\n"
      ]
    },
    {
      "cell_type": "code",
      "metadata": {
        "id": "oLDNxWgQOVpu",
        "colab_type": "code",
        "colab": {
          "base_uri": "https://localhost:8080/",
          "height": 50
        },
        "outputId": "ad47978d-c7c6-4657-984e-b5abd55e0517"
      },
      "source": [
        "str  = input(\"Enter a string\")\n",
        "str.count(\"aa\")"
      ],
      "execution_count": 8,
      "outputs": [
        {
          "output_type": "stream",
          "text": [
            "Enter a stringaaabbccaabb\n"
          ],
          "name": "stdout"
        },
        {
          "output_type": "execute_result",
          "data": {
            "text/plain": [
              "2"
            ]
          },
          "metadata": {
            "tags": []
          },
          "execution_count": 8
        }
      ]
    },
    {
      "cell_type": "markdown",
      "metadata": {
        "id": "TMVVLbETOY0P",
        "colab_type": "text"
      },
      "source": [
        "Question 3:\n",
        "    Test case1:\n",
        "        string →  \"((((()()()))))()\"\n",
        "        output →  8\n",
        "    Test case2:\n",
        "        string →  \"((()))()\"\n",
        "        Output →  4\n"
      ]
    },
    {
      "cell_type": "code",
      "metadata": {
        "id": "HYFp4355OdDc",
        "colab_type": "code",
        "colab": {
          "base_uri": "https://localhost:8080/",
          "height": 202
        },
        "outputId": "bcdb0c02-46a6-4a97-bc40-9bf99cf93e09"
      },
      "source": [
        "str = input(\"enter a string\")\n",
        "a = 0 \n",
        "b = 0\n",
        "for i in range(0,len(str)):\n",
        "  if str[i] == ')':\n",
        "    a = a+1\n",
        "  else:\n",
        "    b = b+1\n",
        "  if a<=b:\n",
        "    print(a)\n",
        "  elif b<=a:\n",
        "    print(b)"
      ],
      "execution_count": 9,
      "outputs": [
        {
          "output_type": "stream",
          "text": [
            "enter a string(((())(()(\n",
            "0\n",
            "0\n",
            "0\n",
            "0\n",
            "1\n",
            "2\n",
            "2\n",
            "2\n",
            "3\n",
            "3\n"
          ],
          "name": "stdout"
        }
      ]
    },
    {
      "cell_type": "markdown",
      "metadata": {
        "id": "9jOcV6cnOdxq",
        "colab_type": "text"
      },
      "source": [
        "Question 4:\n",
        "Read the input as two limits and Print the output as Palindrome count between the two limits\n",
        "Example #1; Input : 1 10 Output : 9\n",
        " Example #2: Input : 1 100 Output : 18\n"
      ]
    },
    {
      "cell_type": "code",
      "metadata": {
        "id": "uIdNJHEYOikQ",
        "colab_type": "code",
        "colab": {
          "base_uri": "https://localhost:8080/",
          "height": 67
        },
        "outputId": "b7ad95f7-a858-474f-9518-8177df619a68"
      },
      "source": [
        "a = int(input(\"enter a number a\"))\n",
        "b = int(input(\"enter a number b\"))\n",
        "count = 0\n",
        "for i in range(a,b):\n",
        "   rev = 0\n",
        "   temp = i\n",
        "   while (i>0):\n",
        "    r = i%10\n",
        "    rev = rev*10 + r\n",
        "    i = i//10\n",
        "   if(temp == rev):\n",
        "     count = count + 1\n",
        "print(count)"
      ],
      "execution_count": 1,
      "outputs": [
        {
          "output_type": "stream",
          "text": [
            "enter a number a2\n",
            "enter a number b100\n",
            "17\n"
          ],
          "name": "stdout"
        }
      ]
    },
    {
      "cell_type": "markdown",
      "metadata": {
        "id": "VcWVUeWoOjDo",
        "colab_type": "text"
      },
      "source": [
        "Question 5:\n",
        "\n",
        " Accept a number as an input and check whether the given number is palindrome or not\n",
        "if it is a palindrome number print the number on the screen\n",
        "if it is not a palindrome number reverse that number and add it to previous number repeat this until will get a palindrome number and print that palindrome number on the screen\n",
        "input: 127\n",
        "output: 848\n"
      ]
    },
    {
      "cell_type": "code",
      "metadata": {
        "id": "Uxpi3pVPOyr8",
        "colab_type": "code",
        "colab": {
          "base_uri": "https://localhost:8080/",
          "height": 50
        },
        "outputId": "00cd06df-64a2-4ed0-b1c6-ab46c687f1d9"
      },
      "source": [
        "def procedure(rev,temp):\n",
        "  n = rev + temp\n",
        "  palindrome(n)\n",
        "\n",
        "def palindrome(n):\n",
        "   temp = n\n",
        "   rev = 0\n",
        "   while n>0:\n",
        "     r = n%10\n",
        "     rev = rev*10 + r\n",
        "     n = n//10\n",
        "   if(temp == rev):\n",
        "      print(rev)\n",
        "   else:\n",
        "       procedure(rev,temp)\n",
        "n = int(input(\"enter a number\"))\n",
        "palindrome(n)"
      ],
      "execution_count": 2,
      "outputs": [
        {
          "output_type": "stream",
          "text": [
            "enter a number122\n",
            "343\n"
          ],
          "name": "stdout"
        }
      ]
    },
    {
      "cell_type": "markdown",
      "metadata": {
        "id": "Y90xiKdUOzjA",
        "colab_type": "text"
      },
      "source": [
        "Question 6:\n",
        "input:orange  →   output : puboif\n"
      ]
    },
    {
      "cell_type": "code",
      "metadata": {
        "id": "mW22OQ4EO33H",
        "colab_type": "code",
        "colab": {
          "base_uri": "https://localhost:8080/",
          "height": 50
        },
        "outputId": "3b8986f8-1af8-41f0-e8f2-1294192d5299"
      },
      "source": [
        "s = input(\"enter string: \")\n",
        "s = s.lower()\n",
        "for i in range(0,len(s)):\n",
        "  if s[i] in ('a', 'e', 'i','o', 'u','n'):\n",
        "    print(chr(ord(s[i])+1),end=\"\")\n",
        "  elif s[i] in  ('g'):\n",
        "    print(chr(ord(s[i])+2),end=\"\")\n",
        "  else :\n",
        "    print(chr(ord(s[i])+3),end=\"\")"
      ],
      "execution_count": 11,
      "outputs": [
        {
          "output_type": "stream",
          "text": [
            "enter string: orange\n",
            "puboif"
          ],
          "name": "stdout"
        }
      ]
    },
    {
      "cell_type": "markdown",
      "metadata": {
        "id": "BSpJS2QNO4S6",
        "colab_type": "text"
      },
      "source": [
        "Question 7:\n",
        "Accept input as a string and display sum of digits as the output \n",
        "input:Appli123cation456 \n",
        "Output: 21\n"
      ]
    },
    {
      "cell_type": "code",
      "metadata": {
        "id": "7FYnZquWLWHz",
        "colab_type": "code",
        "colab": {
          "base_uri": "https://localhost:8080/",
          "height": 50
        },
        "outputId": "4e1ff9d2-2911-460e-f843-d65568dca9a6"
      },
      "source": [
        "str = input(\"enter a string\")\n",
        "sum = 0\n",
        "for i in str:\n",
        "  if i.isdigit() == True: \n",
        "     z = int(i)\n",
        "     sum = sum + z\n",
        "print(sum)"
      ],
      "execution_count": 3,
      "outputs": [
        {
          "output_type": "stream",
          "text": [
            "enter a string345\n",
            "12\n"
          ],
          "name": "stdout"
        }
      ]
    },
    {
      "cell_type": "markdown",
      "metadata": {
        "id": "MMUPFfjoO8Gs",
        "colab_type": "text"
      },
      "source": [
        "Question 8:\n",
        "Write a program to prompt for a score between 0.0 and 1.0. If the score is out of range, print an error. If the score is between 0.0 and 1.0, print a grade using the following table:\n",
        "Score Grade\n",
        ">= 0.9 A\n",
        ">= 0.8 B\n",
        ">= 0.7 C\n",
        ">= 0.6 D\n",
        "< 0.6 F\n",
        "If the user enters a value out of range, print a suitable error message and exit. For the test, enter a score of 0.85\n"
      ]
    },
    {
      "cell_type": "code",
      "metadata": {
        "id": "0frzXxLkPFTE",
        "colab_type": "code",
        "colab": {
          "base_uri": "https://localhost:8080/",
          "height": 50
        },
        "outputId": "e1d8b995-b736-482a-d7bc-9037f46b6e22"
      },
      "source": [
        "score = float(input(\"Enter a score\"))\n",
        "if score<0.0 or score>1.0:\n",
        "  print(\"error\")\n",
        "elif score>=0.9:\n",
        "  print(\"A\")\n",
        "elif score>=0.8:\n",
        "  print(\"B\")\n",
        "elif score>=0.7:\n",
        "  print(\"C\")\n",
        "elif score>=0.6:\n",
        "  print(\"D\")\n",
        "else:\n",
        "  print(\"F\")"
      ],
      "execution_count": 7,
      "outputs": [
        {
          "output_type": "stream",
          "text": [
            "Enter a score0.9\n",
            "A\n"
          ],
          "name": "stdout"
        }
      ]
    },
    {
      "cell_type": "markdown",
      "metadata": {
        "id": "-jZWO3BWdRCb",
        "colab_type": "text"
      },
      "source": [
        "Question 9:\n",
        "Write a Python program which iterates the integers from 1 to 50. For multiples of three print \"Fizz\" instead of the number and for the multiples of five print \"Buzz\". For numbers which are multiples of both three and five print \"FizzBuzz\".\n",
        "Sample Output :\n",
        "fizzbuzz\n",
        "1\n",
        "2\n",
        "fizz\n",
        "4\n",
        "buzz\n"
      ]
    },
    {
      "cell_type": "code",
      "metadata": {
        "id": "_xJDiqw5dWEI",
        "colab_type": "code",
        "colab": {
          "base_uri": "https://localhost:8080/",
          "height": 1000
        },
        "outputId": "85916a16-0caf-4fec-cadc-3eae3494bec2"
      },
      "source": [
        "for i in range(0,51):\n",
        "  if i%3 == 0 and i%5 == 0:\n",
        "    print(\"FizzBuzz\")\n",
        "  elif i%3 == 0:\n",
        "    print(\"Fizz\")\n",
        "  elif i%5 == 0:\n",
        "    print(\"Buzz\")\n",
        "  print(i)\n"
      ],
      "execution_count": 8,
      "outputs": [
        {
          "output_type": "stream",
          "text": [
            "FizzBuzz\n",
            "0\n",
            "1\n",
            "2\n",
            "Fizz\n",
            "3\n",
            "4\n",
            "Buzz\n",
            "5\n",
            "Fizz\n",
            "6\n",
            "7\n",
            "8\n",
            "Fizz\n",
            "9\n",
            "Buzz\n",
            "10\n",
            "11\n",
            "Fizz\n",
            "12\n",
            "13\n",
            "14\n",
            "FizzBuzz\n",
            "15\n",
            "16\n",
            "17\n",
            "Fizz\n",
            "18\n",
            "19\n",
            "Buzz\n",
            "20\n",
            "Fizz\n",
            "21\n",
            "22\n",
            "23\n",
            "Fizz\n",
            "24\n",
            "Buzz\n",
            "25\n",
            "26\n",
            "Fizz\n",
            "27\n",
            "28\n",
            "29\n",
            "FizzBuzz\n",
            "30\n",
            "31\n",
            "32\n",
            "Fizz\n",
            "33\n",
            "34\n",
            "Buzz\n",
            "35\n",
            "Fizz\n",
            "36\n",
            "37\n",
            "38\n",
            "Fizz\n",
            "39\n",
            "Buzz\n",
            "40\n",
            "41\n",
            "Fizz\n",
            "42\n",
            "43\n",
            "44\n",
            "FizzBuzz\n",
            "45\n",
            "46\n",
            "47\n",
            "Fizz\n",
            "48\n",
            "49\n",
            "Buzz\n",
            "50\n"
          ],
          "name": "stdout"
        }
      ]
    },
    {
      "cell_type": "markdown",
      "metadata": {
        "id": "wBYzZ98rdWv2",
        "colab_type": "text"
      },
      "source": [
        "Question 10:\n",
        "Write a Python program to find the median of three values.\n",
        "Expected Output:\n",
        "Input first number: 26                                            \n",
        "Input second number: 15                                                \n",
        "Input third number: 29                                                  \n",
        "The median is 26\n",
        "\n"
      ]
    },
    {
      "cell_type": "code",
      "metadata": {
        "id": "Bvu9ma0ceOF9",
        "colab_type": "code",
        "colab": {
          "base_uri": "https://localhost:8080/",
          "height": 134
        },
        "outputId": "b04203dd-189d-4dd0-b508-23f2e10f1f86"
      },
      "source": [
        "a = int(input(print(\"enter first number:\")))\n",
        "b = int(input(print(\"enter second number:\")))\n",
        "c = int(input(print(\"enter second number:\")))\n",
        "if a > b:\n",
        "    if a < c:\n",
        "      median = a\n",
        "    elif b > c:\n",
        "       median = b\n",
        "    else:\n",
        "      median = c\n",
        "else:\n",
        "    if a > c:\n",
        "      median = a\n",
        "    elif b < c:\n",
        "      median = b\n",
        "    else:\n",
        "      median = c\n",
        "print(\"The median is\",median)\n"
      ],
      "execution_count": 9,
      "outputs": [
        {
          "output_type": "stream",
          "text": [
            "enter first number:\n",
            "21\n",
            "enter second number:\n",
            "22\n",
            "enter second number:\n",
            "23\n",
            "The median is 22\n"
          ],
          "name": "stdout"
        }
      ]
    }
  ]
}