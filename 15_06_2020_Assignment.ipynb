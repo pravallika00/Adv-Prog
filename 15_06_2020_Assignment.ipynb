{
  "nbformat": 4,
  "nbformat_minor": 0,
  "metadata": {
    "colab": {
      "name": "15-06-2020 Assignment",
      "provenance": [],
      "authorship_tag": "ABX9TyO2gVpb2x01oDXNeWjUIq4F",
      "include_colab_link": true
    },
    "kernelspec": {
      "name": "python3",
      "display_name": "Python 3"
    }
  },
  "cells": [
    {
      "cell_type": "markdown",
      "metadata": {
        "id": "view-in-github",
        "colab_type": "text"
      },
      "source": [
        "<a href=\"https://colab.research.google.com/github/pravallika00/Adv-Prog/blob/master/15_06_2020_Assignment.ipynb\" target=\"_parent\"><img src=\"https://colab.research.google.com/assets/colab-badge.svg\" alt=\"Open In Colab\"/></a>"
      ]
    },
    {
      "cell_type": "markdown",
      "metadata": {
        "id": "-PsQ3XkaT-WD",
        "colab_type": "text"
      },
      "source": [
        "#CSE-221710307021-Pravallika"
      ]
    },
    {
      "cell_type": "markdown",
      "metadata": {
        "id": "gG7YXZ_KT-SR",
        "colab_type": "text"
      },
      "source": [
        "#1.)Write a program in C to convert a string to lowercase."
      ]
    },
    {
      "cell_type": "code",
      "metadata": {
        "id": "G_u0pKX-TQwj",
        "colab_type": "code",
        "colab": {}
      },
      "source": [
        "#include<stdio.h>\n",
        "#include<string.h>\n",
        "int main()\n",
        "{\n",
        "\tchar s[100];\n",
        "\tint i,j,n;\n",
        "\tprintf(\"Enter a string:\\n\");\n",
        "\tgets(s);\n",
        "\tn = strlen(s);\n",
        "\tfor(i=0;i<n;i++)\n",
        "\t{\n",
        "\t    if(s[i]>='A' && s[i]<='B')\n",
        "\t    {\n",
        "\t    s[i] = s[i]+32;\n",
        "\t    }\n",
        "\t   \n",
        "\t}\n",
        "\tprintf(\"%s\",s);\n",
        "}"
      ],
      "execution_count": 0,
      "outputs": []
    },
    {
      "cell_type": "markdown",
      "metadata": {
        "id": "bXKZ_iGmUQI8",
        "colab_type": "text"
      },
      "source": [
        "#2.)Write a C programming to count of each character in a given string.\n",
        "TestData: communication\n",
        "Expected ouput:\n",
        "Enter a string : communication\n",
        "c          \t2\n",
        "o          \t2\n",
        "m   \t2\n",
        "u    \t1\n",
        "n  \t2\n",
        "i    \t2\n",
        "a   \t1\n",
        "t    \t1"
      ]
    },
    {
      "cell_type": "code",
      "metadata": {
        "id": "e1gGtDU2UUq8",
        "colab_type": "code",
        "colab": {}
      },
      "source": [
        "#include<stdio.h>\n",
        "#include<string.h>\n",
        "int main()\n",
        "{\n",
        "\tchar s[100];\n",
        "\tint i,j,n,count;\n",
        "\tprintf(\"Enter a string:\\n\");\n",
        "\tgets(s);\n",
        "\tn = strlen(s);\n",
        "\t\n",
        "\tprintf(\" count of character in string:\\n\");\n",
        " \n",
        "    for(i=0;i<n;i++)  \n",
        "    {\n",
        "     \tcount=1;\n",
        "    \tif(s[i])\n",
        "    \t{\n",
        "\t\t\n",
        " \t\t  for(j=i+1;j<n;j++)  \n",
        "\t      {   \n",
        "\t    \t\n",
        "\t        if(s[i]==s[j])\n",
        "    \t    {\n",
        "                 count++;\n",
        "                 s[j]='\\0';\n",
        "\t     \t}\n",
        "\t      }  \n",
        "\t      printf(\" '%c' = %d \\n\",s[i],count);\n",
        " \n",
        "\t       \n",
        "\t}\n",
        "}\n",
        "}"
      ],
      "execution_count": 0,
      "outputs": []
    },
    {
      "cell_type": "markdown",
      "metadata": {
        "id": "_NxkN_etUVI2",
        "colab_type": "text"
      },
      "source": [
        "#3.)Write a C programming to convert vowels into upper case character in a given string. \n",
        "Test Data :\n",
        "knowledge \n",
        "Expected Output:\n",
        "\n",
        "The original string: knowledge\n",
        "\n",
        "After converting vowels into upper case the sentence becomes: knOwlEdgE\n"
      ]
    },
    {
      "cell_type": "code",
      "metadata": {
        "id": "tK2G8Vr0UhgG",
        "colab_type": "code",
        "colab": {}
      },
      "source": [
        "#include<stdio.h>\n",
        "#include<string.h>\n",
        "int main()\n",
        "{\n",
        "\tchar s[100];\n",
        "\tint i,j,n;\n",
        "\tprintf(\"Enter a string:\\n\");\n",
        "\tgets(s);\n",
        "\tn = strlen(s);\n",
        "\tfor(i=0;i<n;i++)\n",
        "\t{\n",
        "\t    if(s[i]=='a' || s[i]=='e' || s[i]=='i' || s[i]=='o' || s[i]=='u')\n",
        "\t    {\n",
        "\t    s[i] = s[i]-32;\n",
        "\t    }\n",
        "\t   \n",
        "\t}\n",
        "\tprintf(\"%s\",s);\n",
        "}"
      ],
      "execution_count": 0,
      "outputs": []
    }
  ]
}