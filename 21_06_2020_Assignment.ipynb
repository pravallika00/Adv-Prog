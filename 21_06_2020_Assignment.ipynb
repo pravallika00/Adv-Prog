{
  "nbformat": 4,
  "nbformat_minor": 0,
  "metadata": {
    "colab": {
      "name": "21-06-2020 Assignment",
      "provenance": [],
      "authorship_tag": "ABX9TyOvthYC7GX5rVd+PxZ8BayH",
      "include_colab_link": true
    },
    "kernelspec": {
      "name": "python3",
      "display_name": "Python 3"
    }
  },
  "cells": [
    {
      "cell_type": "markdown",
      "metadata": {
        "id": "view-in-github",
        "colab_type": "text"
      },
      "source": [
        "<a href=\"https://colab.research.google.com/github/pravallika00/Adv-Prog/blob/master/21_06_2020_Assignment.ipynb\" target=\"_parent\"><img src=\"https://colab.research.google.com/assets/colab-badge.svg\" alt=\"Open In Colab\"/></a>"
      ]
    },
    {
      "cell_type": "markdown",
      "metadata": {
        "id": "aGxZKNGztazF",
        "colab_type": "text"
      },
      "source": [
        "#CSE-221710307021-Pravallika"
      ]
    },
    {
      "cell_type": "markdown",
      "metadata": {
        "id": "38BW9_XZtauM",
        "colab_type": "text"
      },
      "source": [
        "#1) Write a C program to sort  given list of elements using the selection sort algorithm.\n",
        "\n",
        "                 29 72 98 13 87 66 52 51 36"
      ]
    },
    {
      "cell_type": "code",
      "metadata": {
        "id": "ljmp7xAotDGL",
        "colab_type": "code",
        "colab": {}
      },
      "source": [
        "#include <stdio.h>\n",
        "int selection(int a[],int n)\n",
        "{\n",
        "    int min,i,j,temp;\n",
        "    \n",
        "    for(i=0;i<n;i++)\n",
        "    { \n",
        "        min=i;\n",
        "        for(j=i+1;j<n;j++)\n",
        "        {\n",
        "            if(a[j]<a[min])\n",
        "            {\n",
        "                min=j;\n",
        "            }\n",
        "        }\n",
        "        if(min!=i)\n",
        "        {\n",
        "            temp=a[i];\n",
        "            a[i]=a[min];\n",
        "            a[min]=temp;\n",
        "        }\n",
        "        \n",
        "    }\n",
        "    for(i=0;i<n;i++)\n",
        "    {\n",
        "        printf(\"%d \",a[i]);\n",
        "    }\n",
        "    \n",
        "}\n",
        "\n",
        "int main()\n",
        "{\n",
        "    int a[100],n,i;\n",
        "    scanf(\"%d\",&n);\n",
        "    for(i=0;i<n;i++)\n",
        "    {\n",
        "        scanf(\"%d\",&a[i]);\n",
        "    }\n",
        "    selection(a,n);\n",
        "}"
      ],
      "execution_count": null,
      "outputs": []
    },
    {
      "cell_type": "markdown",
      "metadata": {
        "id": "LvyP3nsHtnqX",
        "colab_type": "text"
      },
      "source": [
        "#2) Write a C program to sort given list of elements using the insertion sort algorithm.\n",
        "    \n",
        "                  85 12 59 45 72 51"
      ]
    },
    {
      "cell_type": "code",
      "metadata": {
        "id": "JSFH2gXMtoIw",
        "colab_type": "code",
        "colab": {}
      },
      "source": [
        "#include <stdio.h>\n",
        "int insertion(int a[],int n)\n",
        "{\n",
        "    int m,i,j,temp;\n",
        "    \n",
        "    for(i=1;i<n;i++)\n",
        "    { \n",
        "        temp=a[i];\n",
        "        j=i-1;\n",
        "        while(j>=0 && a[j]>temp)\n",
        "        {\n",
        "            a[j+1]=a[j];\n",
        "            j--;\n",
        "        }\n",
        "        a[j+1]=temp;\n",
        "        \n",
        "    }\n",
        "    for(i=0;i<n;i++)\n",
        "    {\n",
        "        printf(\"%d \",a[i]);\n",
        "    }\n",
        "    \n",
        "}\n",
        "\n",
        "int main()\n",
        "{\n",
        "    int a[100],n,i;\n",
        "    scanf(\"%d\",&n);\n",
        "    for(i=0;i<n;i++)\n",
        "    {\n",
        "        scanf(\"%d\",&a[i]);\n",
        "    }\n",
        "    insertion(a,n);\n",
        "}"
      ],
      "execution_count": null,
      "outputs": []
    }
  ]
}