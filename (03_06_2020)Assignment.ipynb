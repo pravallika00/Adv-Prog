{
  "nbformat": 4,
  "nbformat_minor": 0,
  "metadata": {
    "colab": {
      "name": "(03-06-2020)Assignment",
      "provenance": [],
      "authorship_tag": "ABX9TyNl1k8att/HMNDEew8wR/Ss",
      "include_colab_link": true
    },
    "kernelspec": {
      "name": "python3",
      "display_name": "Python 3"
    }
  },
  "cells": [
    {
      "cell_type": "markdown",
      "metadata": {
        "id": "view-in-github",
        "colab_type": "text"
      },
      "source": [
        "<a href=\"https://colab.research.google.com/github/pravallika00/Adv-Prog/blob/master/(03_06_2020)Assignment.ipynb\" target=\"_parent\"><img src=\"https://colab.research.google.com/assets/colab-badge.svg\" alt=\"Open In Colab\"/></a>"
      ]
    },
    {
      "cell_type": "markdown",
      "metadata": {
        "id": "MIE6gN-NvktX",
        "colab_type": "text"
      },
      "source": [
        "#CSE-221710307021-Pravallika"
      ]
    },
    {
      "cell_type": "markdown",
      "metadata": {
        "id": "4KolKVpivkaT",
        "colab_type": "text"
      },
      "source": [
        "##3. Function to find duplicates in lists\n"
      ]
    },
    {
      "cell_type": "code",
      "metadata": {
        "id": "NTjB4il7wMAZ",
        "colab_type": "code",
        "outputId": "7efb7325-3062-4ade-857e-b8ce2d8f8ffb",
        "colab": {
          "base_uri": "https://localhost:8080/",
          "height": 50
        }
      },
      "source": [
        "def duplicate(l):\n",
        "    for i in l:\n",
        "        if(l.count(i)>1):\n",
        "            return True\n",
        "            break\n",
        "        else:\n",
        "            continue\n",
        "    return False\n",
        "def removed(f):\n",
        "    for i in l:\n",
        "        if i not in li:\n",
        "            li.append(i)\n",
        "    return li\n",
        "l = [1,2,3,4,2]\n",
        "li= []\n",
        "f = (duplicate(l))\n",
        "print(f)\n",
        "if(f == True):\n",
        "    print(removed(l))"
      ],
      "execution_count": 0,
      "outputs": [
        {
          "output_type": "stream",
          "text": [
            "True\n",
            "[1, 2, 3, 4]\n"
          ],
          "name": "stdout"
        }
      ]
    },
    {
      "cell_type": "markdown",
      "metadata": {
        "id": "w23i0hYGxiSs",
        "colab_type": "text"
      },
      "source": [
        "##5. A permutation of a list is another list with the same elements, but in a possibly different order. For example, [1,2,1] is a permutation of [2,1,1], but not of [1,2,2]. Write a functionisPermutation (list1, list2): boolthat returns True if its arguments are permutations of each other."
      ]
    },
    {
      "cell_type": "code",
      "metadata": {
        "id": "dg8OVLDaxmMR",
        "colab_type": "code",
        "outputId": "3d29415b-51ab-4966-8354-ec4a9004876a",
        "colab": {
          "base_uri": "https://localhost:8080/",
          "height": 34
        }
      },
      "source": [
        "def ispermutation(l1,l2):\n",
        "    sum1 = sum(l1)\n",
        "    sum2 = sum(l2)\n",
        "    if sum1 == sum2:\n",
        "        return True\n",
        "    else:\n",
        "        return False\n",
        "l1 = [1,2,1]\n",
        "l2 = [1,1,2]\n",
        "print(ispermutation(l1,l2))"
      ],
      "execution_count": 0,
      "outputs": [
        {
          "output_type": "stream",
          "text": [
            "True\n"
          ],
          "name": "stdout"
        }
      ]
    }
  ]
}