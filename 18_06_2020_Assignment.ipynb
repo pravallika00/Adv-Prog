{
  "nbformat": 4,
  "nbformat_minor": 0,
  "metadata": {
    "colab": {
      "name": "18-06-2020 Assignment",
      "provenance": [],
      "authorship_tag": "ABX9TyMrM/xtcW+DvTV8wX44AYHM",
      "include_colab_link": true
    },
    "kernelspec": {
      "name": "python3",
      "display_name": "Python 3"
    }
  },
  "cells": [
    {
      "cell_type": "markdown",
      "metadata": {
        "id": "view-in-github",
        "colab_type": "text"
      },
      "source": [
        "<a href=\"https://colab.research.google.com/github/pravallika00/Adv-Prog/blob/master/18_06_2020_Assignment.ipynb\" target=\"_parent\"><img src=\"https://colab.research.google.com/assets/colab-badge.svg\" alt=\"Open In Colab\"/></a>"
      ]
    },
    {
      "cell_type": "markdown",
      "metadata": {
        "id": "sDDlqoiAtv52",
        "colab_type": "text"
      },
      "source": [
        "#CSE-221710307021-Pravallika"
      ]
    },
    {
      "cell_type": "markdown",
      "metadata": {
        "id": "JzOVR_9qtv2X",
        "colab_type": "text"
      },
      "source": [
        "#1.)Write a program in C to print individual characters of string in reverse order.\n",
        "\n",
        "Test Data :\n",
        "Input the string : communication\n",
        "\n",
        "Expected Output :\n",
        "\n",
        "The characters of the string in reverse are :\n",
        "n o i t a c i n u m m o c"
      ]
    },
    {
      "cell_type": "code",
      "metadata": {
        "id": "BzbVibd2tnTP",
        "colab_type": "code",
        "colab": {}
      },
      "source": [
        "#include<stdio.h>\n",
        "int main()\n",
        "{\n",
        "    char s[100];\n",
        "    int l,i;\n",
        "    scanf(\"%s\",&s);\n",
        "    l = strlen(s);\n",
        "    printf(\"%d\\n\",l);\n",
        "    for(i=l-1;i>=0;i--)\n",
        "    {\n",
        "        printf(\"%c \",s[i]);\n",
        "    }\n",
        "    \n",
        "}"
      ],
      "execution_count": null,
      "outputs": []
    },
    {
      "cell_type": "markdown",
      "metadata": {
        "id": "ceRsYReMt4By",
        "colab_type": "text"
      },
      "source": [
        "#2.) Write a C program to sort a string array in ascending order.\n",
        "\n",
        "Test Data :\n",
        "Input the string : programming\n",
        "\n",
        "Expected Output :\n",
        "\n",
        "After sorting the string appears like : \n",
        "aggimmnoprr"
      ]
    },
    {
      "cell_type": "code",
      "metadata": {
        "id": "YKXqdTm_t4pe",
        "colab_type": "code",
        "colab": {}
      },
      "source": [
        "#include<stdio.h>\n",
        "#include<string.h>\n",
        "int main()\n",
        "{\n",
        "    char s[100];\n",
        "    int i,l,j,t;\n",
        "    scanf(\"%s\",&s);\n",
        "    l = strlen(s);\n",
        "    for(i=0;i<l;i++)\n",
        "    {\n",
        "        for(j=i+1;j<l;j++)\n",
        "        {\n",
        "            if(s[i]>s[j])\n",
        "            {\n",
        "                t = s[i];\n",
        "                s[i] = s[j];\n",
        "                s[j] = t;\n",
        "                \n",
        "            }\n",
        "        \n",
        "        }\n",
        "    }\n",
        "    printf(\"%s\",s);\n",
        "}"
      ],
      "execution_count": null,
      "outputs": []
    },
    {
      "cell_type": "markdown",
      "metadata": {
        "id": "-bfS57fbt48q",
        "colab_type": "text"
      },
      "source": [
        "#3.) Write a program in C to find the length of a string without using library function."
      ]
    },
    {
      "cell_type": "code",
      "metadata": {
        "id": "VoMrLy5Xt5Yq",
        "colab_type": "code",
        "colab": {}
      },
      "source": [
        "#include<stdio.h>\n",
        "#include<string.h>\n",
        "int main()\n",
        "{\n",
        "    char s[100];\n",
        "    int l,i,count=0;\n",
        "    scanf(\"%s\",&s);\n",
        "    l = strlen(s);\n",
        "    i=0;\n",
        "    while(s[i]!='\\0')\n",
        "    {\n",
        "       count++; \n",
        "        i++;\n",
        "    }\n",
        "    printf(\"%d\",count);\n",
        "}"
      ],
      "execution_count": null,
      "outputs": []
    }
  ]
}