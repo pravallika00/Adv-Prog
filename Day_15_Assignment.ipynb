{
  "nbformat": 4,
  "nbformat_minor": 0,
  "metadata": {
    "colab": {
      "name": "Day 15 Assignment",
      "provenance": [],
      "authorship_tag": "ABX9TyNMoIY/lvcLKp+jSS8DvJiK",
      "include_colab_link": true
    },
    "kernelspec": {
      "name": "python3",
      "display_name": "Python 3"
    }
  },
  "cells": [
    {
      "cell_type": "markdown",
      "metadata": {
        "id": "view-in-github",
        "colab_type": "text"
      },
      "source": [
        "<a href=\"https://colab.research.google.com/github/pravallika00/Adv-Prog/blob/master/Day_15_Assignment.ipynb\" target=\"_parent\"><img src=\"https://colab.research.google.com/assets/colab-badge.svg\" alt=\"Open In Colab\"/></a>"
      ]
    },
    {
      "cell_type": "markdown",
      "metadata": {
        "id": "nZln4tdCmOG3",
        "colab_type": "text"
      },
      "source": [
        "#CSE-221710307021-Pravallika"
      ]
    },
    {
      "cell_type": "markdown",
      "metadata": {
        "id": "h-cTKn8hmNsc",
        "colab_type": "text"
      },
      "source": [
        "#Problem1:\n",
        "The program must accept two positive integers X and Y and print the N terms in the series as X, Y, X+Y, 2X+Y, X+2Y, 2X+2Y, 3X+2Y, 2X+3Y, 3X+3Y, 4X+3Y, 3X+4Y, 4X+4Y and so on.\n",
        "\n",
        "Boundary Condition(s): 1 <= X, Y <= 100 1 <= N <= 100\n",
        "\n",
        "Input Format:\n",
        "The first line contains X, Y and N separated by a space.\n",
        "\n",
        "Output Format:\n",
        "The first line contains the N terms in the series.\n",
        "\n",
        "Example Input/Output 1:\n",
        "Input: 3 5 10\n",
        "\n",
        "Output: 3 5 8 11 13 16 19 21 24 27\n",
        "\n",
        "Example Input/Output 2:\n",
        "Input: 1 1 20\n",
        "\n",
        "Output: 1 1 2 3 3 4 5 5 6 7 7 8 9 9 10 11 11 12 13 13\n",
        "\n",
        "Example Input/Output 3:\n",
        "Input: 2 5 15\n",
        "\n",
        "Output: 2 5 7 9 12 14 16 19 21 23 26 28 30 33 35"
      ]
    },
    {
      "cell_type": "code",
      "metadata": {
        "id": "yNujzaRzmIjO",
        "colab_type": "code",
        "colab": {}
      },
      "source": [
        "#include<stdio.h>\n",
        "int main()\n",
        "{\n",
        " int x,y,n,c1,count=0,temp=0;\n",
        " scanf(\"%d%d%d\",&x,&y,&n);\n",
        " while(temp<=n)\n",
        " {\n",
        "   c1 = count;\n",
        "   count++;\n",
        "   if(temp<=n)\n",
        "   {\n",
        "   printf(\"%d \",(c1*x+c1*y));\n",
        "   temp++;\n",
        "   }\n",
        "   if(temp<=n)\n",
        "   {\n",
        "   printf(\"%d \",(count*x+c1*y));\n",
        "   temp++;\n",
        "   }\n",
        "   if(temp<=n)\n",
        "   {\n",
        "   printf(\"%d \",(c1*x+count*y));\n",
        "   temp++;\n",
        "   }\n",
        " }\n",
        "}"
      ],
      "execution_count": 0,
      "outputs": []
    },
    {
      "cell_type": "markdown",
      "metadata": {
        "id": "ZayEyLTcmbJW",
        "colab_type": "text"
      },
      "source": [
        "#Program 2:\n",
        "\n",
        "Read the input as two numbers and print the output as count of Prime numbers between the limits\n",
        "\n"
      ]
    },
    {
      "cell_type": "code",
      "metadata": {
        "id": "686Fr7LPmfpr",
        "colab_type": "code",
        "colab": {}
      },
      "source": [
        "#include<stdio.h>\n",
        "int main()\n",
        "{\n",
        " int min,max,i,j,count=0,prime=0;\n",
        " scanf(\"%d%d\",&min,&max);\n",
        " for(i=min;i<=max;i++)\n",
        " { \n",
        " count = 0; \n",
        "  for(j=1;j<=i;j++)\n",
        "  {\n",
        "   if(i%j==0)\n",
        "    count++;\n",
        "  }\n",
        "   if(count==2)\n",
        "   {\n",
        "    prime++;\n",
        "   }\n",
        "  }\n",
        "  printf(\" %d \",prime);\n",
        "}"
      ],
      "execution_count": 0,
      "outputs": []
    }
  ]
}